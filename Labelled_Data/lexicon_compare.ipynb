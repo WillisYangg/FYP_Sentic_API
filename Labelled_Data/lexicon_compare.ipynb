{
 "cells": [
  {
   "cell_type": "code",
   "execution_count": 5,
   "metadata": {},
   "outputs": [],
   "source": [
    "import sqlalchemy\n",
    "import configparser\n",
    "import pandas as pd\n",
    "import numpy as np\n",
    "import re\n",
    "import nltk\n",
    "from nltk.corpus import stopwords\n",
    "from nltk.tokenize import word_tokenize\n",
    "from nltk.stem import WordNetLemmatizer"
   ]
  },
  {
   "cell_type": "code",
   "execution_count": 2,
   "metadata": {},
   "outputs": [],
   "source": [
    "config = configparser.ConfigParser()\n",
    "config_file = '../config.ini'\n",
    "config.read(config_file)\n",
    "default = config['DEFAULT-SQLALCHEMY']\n",
    "engine = sqlalchemy.create_engine('mysql+mysqlconnector://{0}:{1}@{2}/{3}'.\n",
    "                                            format(default['DB_USER'], default['DB_PASSWORD'], \n",
    "                                                    default['DB_IP'], default['DB_DATABASE']))"
   ]
  },
  {
   "cell_type": "code",
   "execution_count": 3,
   "metadata": {},
   "outputs": [
    {
     "data": {
      "text/html": [
       "<div>\n",
       "<style scoped>\n",
       "    .dataframe tbody tr th:only-of-type {\n",
       "        vertical-align: middle;\n",
       "    }\n",
       "\n",
       "    .dataframe tbody tr th {\n",
       "        vertical-align: top;\n",
       "    }\n",
       "\n",
       "    .dataframe thead th {\n",
       "        text-align: right;\n",
       "    }\n",
       "</style>\n",
       "<table border=\"1\" class=\"dataframe\">\n",
       "  <thead>\n",
       "    <tr style=\"text-align: right;\">\n",
       "      <th></th>\n",
       "      <th>tweet</th>\n",
       "      <th>tweet_string</th>\n",
       "    </tr>\n",
       "  </thead>\n",
       "  <tbody>\n",
       "    <tr>\n",
       "      <th>0</th>\n",
       "      <td>the real reason why you be sad you be attach t...</td>\n",
       "      <td>the real reason why you be sad you be attach t...</td>\n",
       "    </tr>\n",
       "    <tr>\n",
       "      <th>1</th>\n",
       "      <td>my biggest problem be overthinking everything</td>\n",
       "      <td>my biggest problem be overthinking everything</td>\n",
       "    </tr>\n",
       "    <tr>\n",
       "      <th>2</th>\n",
       "      <td>the worst sadness be the sadness you have teac...</td>\n",
       "      <td>the worst sadness be the sadness you have teac...</td>\n",
       "    </tr>\n",
       "    <tr>\n",
       "      <th>3</th>\n",
       "      <td>i cannot make you understand i cannot make any...</td>\n",
       "      <td>i cannot make you understand i cannot make any...</td>\n",
       "    </tr>\n",
       "    <tr>\n",
       "      <th>4</th>\n",
       "      <td>i do not think anyone really understand how ti...</td>\n",
       "      <td>i do not think anyone really understand how ti...</td>\n",
       "    </tr>\n",
       "    <tr>\n",
       "      <th>...</th>\n",
       "      <td>...</td>\n",
       "      <td>...</td>\n",
       "    </tr>\n",
       "    <tr>\n",
       "      <th>3077</th>\n",
       "      <td>cough sneeze be tho worst</td>\n",
       "      <td>cough sneeze be tho worst</td>\n",
       "    </tr>\n",
       "    <tr>\n",
       "      <th>3078</th>\n",
       "      <td>i can be your sad whore ahaha</td>\n",
       "      <td>i can be your sad whore ahaha</td>\n",
       "    </tr>\n",
       "    <tr>\n",
       "      <th>3079</th>\n",
       "      <td>bro that feel you get after you sneeze</td>\n",
       "      <td>bro that feel you get after you sneeze</td>\n",
       "    </tr>\n",
       "    <tr>\n",
       "      <th>3080</th>\n",
       "      <td>long piss be the best</td>\n",
       "      <td>long piss be the best</td>\n",
       "    </tr>\n",
       "    <tr>\n",
       "      <th>3081</th>\n",
       "      <td>dwight you ignorant slut</td>\n",
       "      <td>dwight you ignorant slut</td>\n",
       "    </tr>\n",
       "  </tbody>\n",
       "</table>\n",
       "<p>3082 rows × 2 columns</p>\n",
       "</div>"
      ],
      "text/plain": [
       "                                                  tweet  \\\n",
       "0     the real reason why you be sad you be attach t...   \n",
       "1         my biggest problem be overthinking everything   \n",
       "2     the worst sadness be the sadness you have teac...   \n",
       "3     i cannot make you understand i cannot make any...   \n",
       "4     i do not think anyone really understand how ti...   \n",
       "...                                                 ...   \n",
       "3077                          cough sneeze be tho worst   \n",
       "3078                      i can be your sad whore ahaha   \n",
       "3079             bro that feel you get after you sneeze   \n",
       "3080                              long piss be the best   \n",
       "3081                           dwight you ignorant slut   \n",
       "\n",
       "                                           tweet_string  \n",
       "0     the real reason why you be sad you be attach t...  \n",
       "1         my biggest problem be overthinking everything  \n",
       "2     the worst sadness be the sadness you have teac...  \n",
       "3     i cannot make you understand i cannot make any...  \n",
       "4     i do not think anyone really understand how ti...  \n",
       "...                                                 ...  \n",
       "3077                          cough sneeze be tho worst  \n",
       "3078                      i can be your sad whore ahaha  \n",
       "3079             bro that feel you get after you sneeze  \n",
       "3080                              long piss be the best  \n",
       "3081                           dwight you ignorant slut  \n",
       "\n",
       "[3082 rows x 2 columns]"
      ]
     },
     "execution_count": 3,
     "metadata": {},
     "output_type": "execute_result"
    }
   ],
   "source": [
    "labelled_df = pd.read_csv('clean_d_tweets.csv')\n",
    "df = pd.DataFrame(labelled_df['tweet'])\n",
    "df['tweet'] = df['tweet'].astype(str)\n",
    "df['tweet_string'] = df['tweet']\n",
    "df"
   ]
  },
  {
   "cell_type": "markdown",
   "metadata": {},
   "source": [
    "#### Tokenization"
   ]
  },
  {
   "cell_type": "code",
   "execution_count": 4,
   "metadata": {},
   "outputs": [
    {
     "data": {
      "text/html": [
       "<div>\n",
       "<style scoped>\n",
       "    .dataframe tbody tr th:only-of-type {\n",
       "        vertical-align: middle;\n",
       "    }\n",
       "\n",
       "    .dataframe tbody tr th {\n",
       "        vertical-align: top;\n",
       "    }\n",
       "\n",
       "    .dataframe thead th {\n",
       "        text-align: right;\n",
       "    }\n",
       "</style>\n",
       "<table border=\"1\" class=\"dataframe\">\n",
       "  <thead>\n",
       "    <tr style=\"text-align: right;\">\n",
       "      <th></th>\n",
       "      <th>tweet</th>\n",
       "      <th>tweet_string</th>\n",
       "    </tr>\n",
       "  </thead>\n",
       "  <tbody>\n",
       "    <tr>\n",
       "      <th>0</th>\n",
       "      <td>[the, real, reason, why, you, be, sad, you, be...</td>\n",
       "      <td>the real reason why you be sad you be attach t...</td>\n",
       "    </tr>\n",
       "    <tr>\n",
       "      <th>1</th>\n",
       "      <td>[my, biggest, problem, be, overthinking, every...</td>\n",
       "      <td>my biggest problem be overthinking everything</td>\n",
       "    </tr>\n",
       "    <tr>\n",
       "      <th>2</th>\n",
       "      <td>[the, worst, sadness, be, the, sadness, you, h...</td>\n",
       "      <td>the worst sadness be the sadness you have teac...</td>\n",
       "    </tr>\n",
       "    <tr>\n",
       "      <th>3</th>\n",
       "      <td>[i, can, not, make, you, understand, i, can, n...</td>\n",
       "      <td>i cannot make you understand i cannot make any...</td>\n",
       "    </tr>\n",
       "    <tr>\n",
       "      <th>4</th>\n",
       "      <td>[i, do, not, think, anyone, really, understand...</td>\n",
       "      <td>i do not think anyone really understand how ti...</td>\n",
       "    </tr>\n",
       "  </tbody>\n",
       "</table>\n",
       "</div>"
      ],
      "text/plain": [
       "                                               tweet  \\\n",
       "0  [the, real, reason, why, you, be, sad, you, be...   \n",
       "1  [my, biggest, problem, be, overthinking, every...   \n",
       "2  [the, worst, sadness, be, the, sadness, you, h...   \n",
       "3  [i, can, not, make, you, understand, i, can, n...   \n",
       "4  [i, do, not, think, anyone, really, understand...   \n",
       "\n",
       "                                        tweet_string  \n",
       "0  the real reason why you be sad you be attach t...  \n",
       "1      my biggest problem be overthinking everything  \n",
       "2  the worst sadness be the sadness you have teac...  \n",
       "3  i cannot make you understand i cannot make any...  \n",
       "4  i do not think anyone really understand how ti...  "
      ]
     },
     "execution_count": 4,
     "metadata": {},
     "output_type": "execute_result"
    }
   ],
   "source": [
    "from nltk.tokenize import word_tokenize\n",
    "\n",
    "df['tweet'] = df['tweet'].apply(lambda x: word_tokenize(x))\n",
    "\n",
    "df.head()"
   ]
  },
  {
   "cell_type": "markdown",
   "metadata": {},
   "source": [
    "#### Stemming"
   ]
  },
  {
   "cell_type": "code",
   "execution_count": 5,
   "metadata": {},
   "outputs": [
    {
     "data": {
      "text/html": [
       "<div>\n",
       "<style scoped>\n",
       "    .dataframe tbody tr th:only-of-type {\n",
       "        vertical-align: middle;\n",
       "    }\n",
       "\n",
       "    .dataframe tbody tr th {\n",
       "        vertical-align: top;\n",
       "    }\n",
       "\n",
       "    .dataframe thead th {\n",
       "        text-align: right;\n",
       "    }\n",
       "</style>\n",
       "<table border=\"1\" class=\"dataframe\">\n",
       "  <thead>\n",
       "    <tr style=\"text-align: right;\">\n",
       "      <th></th>\n",
       "      <th>tweet</th>\n",
       "      <th>tweet_string</th>\n",
       "      <th>port_tweet</th>\n",
       "    </tr>\n",
       "  </thead>\n",
       "  <tbody>\n",
       "    <tr>\n",
       "      <th>0</th>\n",
       "      <td>[the, real, reason, why, you, be, sad, you, be...</td>\n",
       "      <td>the real reason why you be sad you be attach t...</td>\n",
       "      <td>[the, real, reason, whi, you, be, sad, you, be...</td>\n",
       "    </tr>\n",
       "    <tr>\n",
       "      <th>1</th>\n",
       "      <td>[my, biggest, problem, be, overthinking, every...</td>\n",
       "      <td>my biggest problem be overthinking everything</td>\n",
       "      <td>[my, biggest, problem, be, overthink, everyth]</td>\n",
       "    </tr>\n",
       "    <tr>\n",
       "      <th>2</th>\n",
       "      <td>[the, worst, sadness, be, the, sadness, you, h...</td>\n",
       "      <td>the worst sadness be the sadness you have teac...</td>\n",
       "      <td>[the, worst, sad, be, the, sad, you, have, tea...</td>\n",
       "    </tr>\n",
       "    <tr>\n",
       "      <th>3</th>\n",
       "      <td>[i, can, not, make, you, understand, i, can, n...</td>\n",
       "      <td>i cannot make you understand i cannot make any...</td>\n",
       "      <td>[i, can, not, make, you, understand, i, can, n...</td>\n",
       "    </tr>\n",
       "    <tr>\n",
       "      <th>4</th>\n",
       "      <td>[i, do, not, think, anyone, really, understand...</td>\n",
       "      <td>i do not think anyone really understand how ti...</td>\n",
       "      <td>[i, do, not, think, anyon, realli, understand,...</td>\n",
       "    </tr>\n",
       "  </tbody>\n",
       "</table>\n",
       "</div>"
      ],
      "text/plain": [
       "                                               tweet  \\\n",
       "0  [the, real, reason, why, you, be, sad, you, be...   \n",
       "1  [my, biggest, problem, be, overthinking, every...   \n",
       "2  [the, worst, sadness, be, the, sadness, you, h...   \n",
       "3  [i, can, not, make, you, understand, i, can, n...   \n",
       "4  [i, do, not, think, anyone, really, understand...   \n",
       "\n",
       "                                        tweet_string  \\\n",
       "0  the real reason why you be sad you be attach t...   \n",
       "1      my biggest problem be overthinking everything   \n",
       "2  the worst sadness be the sadness you have teac...   \n",
       "3  i cannot make you understand i cannot make any...   \n",
       "4  i do not think anyone really understand how ti...   \n",
       "\n",
       "                                          port_tweet  \n",
       "0  [the, real, reason, whi, you, be, sad, you, be...  \n",
       "1     [my, biggest, problem, be, overthink, everyth]  \n",
       "2  [the, worst, sad, be, the, sad, you, have, tea...  \n",
       "3  [i, can, not, make, you, understand, i, can, n...  \n",
       "4  [i, do, not, think, anyon, realli, understand,...  "
      ]
     },
     "execution_count": 5,
     "metadata": {},
     "output_type": "execute_result"
    }
   ],
   "source": [
    "from nltk.stem import PorterStemmer\n",
    "\n",
    "porterstemmer = PorterStemmer()\n",
    "df['port_tweet'] = df['tweet'].apply(lambda x: [porterstemmer.stem(word) for word in x])\n",
    "\n",
    "df.head()"
   ]
  },
  {
   "cell_type": "markdown",
   "metadata": {},
   "source": [
    "#### Removal of Stop words"
   ]
  },
  {
   "cell_type": "code",
   "execution_count": 6,
   "metadata": {},
   "outputs": [
    {
     "data": {
      "text/html": [
       "<div>\n",
       "<style scoped>\n",
       "    .dataframe tbody tr th:only-of-type {\n",
       "        vertical-align: middle;\n",
       "    }\n",
       "\n",
       "    .dataframe tbody tr th {\n",
       "        vertical-align: top;\n",
       "    }\n",
       "\n",
       "    .dataframe thead th {\n",
       "        text-align: right;\n",
       "    }\n",
       "</style>\n",
       "<table border=\"1\" class=\"dataframe\">\n",
       "  <thead>\n",
       "    <tr style=\"text-align: right;\">\n",
       "      <th></th>\n",
       "      <th>tweet</th>\n",
       "      <th>tweet_string</th>\n",
       "      <th>port_tweet</th>\n",
       "    </tr>\n",
       "  </thead>\n",
       "  <tbody>\n",
       "    <tr>\n",
       "      <th>0</th>\n",
       "      <td>[the, real, reason, why, you, be, sad, you, be...</td>\n",
       "      <td>the real reason why you be sad you be attach t...</td>\n",
       "      <td>[real, reason, whi, sad, attach, peopl, distan...</td>\n",
       "    </tr>\n",
       "    <tr>\n",
       "      <th>1</th>\n",
       "      <td>[my, biggest, problem, be, overthinking, every...</td>\n",
       "      <td>my biggest problem be overthinking everything</td>\n",
       "      <td>[biggest, problem, overthink, everyth]</td>\n",
       "    </tr>\n",
       "    <tr>\n",
       "      <th>2</th>\n",
       "      <td>[the, worst, sadness, be, the, sadness, you, h...</td>\n",
       "      <td>the worst sadness be the sadness you have teac...</td>\n",
       "      <td>[worst, sad, sad, teach, hide]</td>\n",
       "    </tr>\n",
       "    <tr>\n",
       "      <th>3</th>\n",
       "      <td>[i, can, not, make, you, understand, i, can, n...</td>\n",
       "      <td>i cannot make you understand i cannot make any...</td>\n",
       "      <td>[make, understand, make, anyon, understand, ha...</td>\n",
       "    </tr>\n",
       "    <tr>\n",
       "      <th>4</th>\n",
       "      <td>[i, do, not, think, anyone, really, understand...</td>\n",
       "      <td>i do not think anyone really understand how ti...</td>\n",
       "      <td>[think, anyon, realli, understand, tire, act, ...</td>\n",
       "    </tr>\n",
       "  </tbody>\n",
       "</table>\n",
       "</div>"
      ],
      "text/plain": [
       "                                               tweet  \\\n",
       "0  [the, real, reason, why, you, be, sad, you, be...   \n",
       "1  [my, biggest, problem, be, overthinking, every...   \n",
       "2  [the, worst, sadness, be, the, sadness, you, h...   \n",
       "3  [i, can, not, make, you, understand, i, can, n...   \n",
       "4  [i, do, not, think, anyone, really, understand...   \n",
       "\n",
       "                                        tweet_string  \\\n",
       "0  the real reason why you be sad you be attach t...   \n",
       "1      my biggest problem be overthinking everything   \n",
       "2  the worst sadness be the sadness you have teac...   \n",
       "3  i cannot make you understand i cannot make any...   \n",
       "4  i do not think anyone really understand how ti...   \n",
       "\n",
       "                                          port_tweet  \n",
       "0  [real, reason, whi, sad, attach, peopl, distan...  \n",
       "1             [biggest, problem, overthink, everyth]  \n",
       "2                     [worst, sad, sad, teach, hide]  \n",
       "3  [make, understand, make, anyon, understand, ha...  \n",
       "4  [think, anyon, realli, understand, tire, act, ...  "
      ]
     },
     "execution_count": 6,
     "metadata": {},
     "output_type": "execute_result"
    }
   ],
   "source": [
    "from nltk.corpus import stopwords\n",
    "\n",
    "stop_words = stopwords.words('english')\n",
    "\n",
    "def remove_stopwords(text):\n",
    "    return [word for word in text if word not in stop_words]\n",
    "\n",
    "df['port_tweet'] = df['port_tweet'].apply(remove_stopwords)\n",
    "\n",
    "df.head()"
   ]
  },
  {
   "cell_type": "markdown",
   "metadata": {},
   "source": [
    "#### VADER"
   ]
  },
  {
   "cell_type": "code",
   "execution_count": 7,
   "metadata": {},
   "outputs": [
    {
     "data": {
      "text/plain": [
       "score\n",
       "Neutral     3017\n",
       "Negative      38\n",
       "Positive      27\n",
       "Name: count, dtype: int64"
      ]
     },
     "execution_count": 7,
     "metadata": {},
     "output_type": "execute_result"
    }
   ],
   "source": [
    "from vaderSentiment.vaderSentiment import SentimentIntensityAnalyzer\n",
    "\n",
    "sentiment_analyzer = SentimentIntensityAnalyzer()\n",
    "df['score'] = df['port_tweet'].apply(lambda x: sentiment_analyzer.polarity_scores(x)['compound'])\n",
    "\n",
    "df['score'] = np.where(df['score'] < 0, 'Negative', np.where(df['score'] == 0, 'Neutral', 'Positive'))\n",
    "df['score'].value_counts()"
   ]
  },
  {
   "cell_type": "markdown",
   "metadata": {},
   "source": [
    "#### SentiWordNet"
   ]
  },
  {
   "cell_type": "code",
   "execution_count": 8,
   "metadata": {},
   "outputs": [],
   "source": [
    "def make_sentences(data,name):\n",
    "    data[name]=data[name].apply(lambda x:' '.join([i+' ' for i in x]))\n",
    "    data[name]=data[name].apply(lambda x:re.sub(r'\\s+', ' ', x, flags=re.I))"
   ]
  },
  {
   "cell_type": "code",
   "execution_count": 9,
   "metadata": {},
   "outputs": [],
   "source": [
    "make_sentences(df,'port_tweet')"
   ]
  },
  {
   "cell_type": "code",
   "execution_count": 10,
   "metadata": {},
   "outputs": [
    {
     "data": {
      "text/html": [
       "<div>\n",
       "<style scoped>\n",
       "    .dataframe tbody tr th:only-of-type {\n",
       "        vertical-align: middle;\n",
       "    }\n",
       "\n",
       "    .dataframe tbody tr th {\n",
       "        vertical-align: top;\n",
       "    }\n",
       "\n",
       "    .dataframe thead th {\n",
       "        text-align: right;\n",
       "    }\n",
       "</style>\n",
       "<table border=\"1\" class=\"dataframe\">\n",
       "  <thead>\n",
       "    <tr style=\"text-align: right;\">\n",
       "      <th></th>\n",
       "      <th>tweet</th>\n",
       "      <th>tweet_string</th>\n",
       "      <th>port_tweet</th>\n",
       "      <th>score</th>\n",
       "      <th>pos_tags</th>\n",
       "    </tr>\n",
       "  </thead>\n",
       "  <tbody>\n",
       "    <tr>\n",
       "      <th>0</th>\n",
       "      <td>[the, real, reason, why, you, be, sad, you, be...</td>\n",
       "      <td>the real reason why you be sad you be attach t...</td>\n",
       "      <td>real reason whi sad attach peopl distant pay a...</td>\n",
       "      <td>Neutral</td>\n",
       "      <td>[(real, JJ), (reason, NN), (whi, NN), (sad, JJ...</td>\n",
       "    </tr>\n",
       "    <tr>\n",
       "      <th>1</th>\n",
       "      <td>[my, biggest, problem, be, overthinking, every...</td>\n",
       "      <td>my biggest problem be overthinking everything</td>\n",
       "      <td>biggest problem overthink everyth</td>\n",
       "      <td>Neutral</td>\n",
       "      <td>[(biggest, JJS), (problem, NN), (overthink, NN...</td>\n",
       "    </tr>\n",
       "    <tr>\n",
       "      <th>2</th>\n",
       "      <td>[the, worst, sadness, be, the, sadness, you, h...</td>\n",
       "      <td>the worst sadness be the sadness you have teac...</td>\n",
       "      <td>worst sad sad teach hide</td>\n",
       "      <td>Neutral</td>\n",
       "      <td>[(worst, RB), (sad, JJ), (sad, JJ), (teach, NN...</td>\n",
       "    </tr>\n",
       "    <tr>\n",
       "      <th>3</th>\n",
       "      <td>[i, can, not, make, you, understand, i, can, n...</td>\n",
       "      <td>i cannot make you understand i cannot make any...</td>\n",
       "      <td>make understand make anyon understand happen i...</td>\n",
       "      <td>Neutral</td>\n",
       "      <td>[(make, NN), (understand, NN), (make, VB), (an...</td>\n",
       "    </tr>\n",
       "    <tr>\n",
       "      <th>4</th>\n",
       "      <td>[i, do, not, think, anyone, really, understand...</td>\n",
       "      <td>i do not think anyone really understand how ti...</td>\n",
       "      <td>think anyon realli understand tire act okay al...</td>\n",
       "      <td>Neutral</td>\n",
       "      <td>[(think, VB), (anyon, JJ), (realli, NNS), (und...</td>\n",
       "    </tr>\n",
       "  </tbody>\n",
       "</table>\n",
       "</div>"
      ],
      "text/plain": [
       "                                               tweet  \\\n",
       "0  [the, real, reason, why, you, be, sad, you, be...   \n",
       "1  [my, biggest, problem, be, overthinking, every...   \n",
       "2  [the, worst, sadness, be, the, sadness, you, h...   \n",
       "3  [i, can, not, make, you, understand, i, can, n...   \n",
       "4  [i, do, not, think, anyone, really, understand...   \n",
       "\n",
       "                                        tweet_string  \\\n",
       "0  the real reason why you be sad you be attach t...   \n",
       "1      my biggest problem be overthinking everything   \n",
       "2  the worst sadness be the sadness you have teac...   \n",
       "3  i cannot make you understand i cannot make any...   \n",
       "4  i do not think anyone really understand how ti...   \n",
       "\n",
       "                                          port_tweet    score  \\\n",
       "0  real reason whi sad attach peopl distant pay a...  Neutral   \n",
       "1                 biggest problem overthink everyth   Neutral   \n",
       "2                          worst sad sad teach hide   Neutral   \n",
       "3  make understand make anyon understand happen i...  Neutral   \n",
       "4  think anyon realli understand tire act okay al...  Neutral   \n",
       "\n",
       "                                            pos_tags  \n",
       "0  [(real, JJ), (reason, NN), (whi, NN), (sad, JJ...  \n",
       "1  [(biggest, JJS), (problem, NN), (overthink, NN...  \n",
       "2  [(worst, RB), (sad, JJ), (sad, JJ), (teach, NN...  \n",
       "3  [(make, NN), (understand, NN), (make, VB), (an...  \n",
       "4  [(think, VB), (anyon, JJ), (realli, NNS), (und...  "
      ]
     },
     "execution_count": 10,
     "metadata": {},
     "output_type": "execute_result"
    }
   ],
   "source": [
    "pos=neg=obj=count=0\n",
    "\n",
    "postagging = []\n",
    "\n",
    "for review in df['port_tweet']:\n",
    "    list = word_tokenize(review)\n",
    "    postagging.append(nltk.pos_tag(list))\n",
    "\n",
    "df['pos_tags'] = postagging\n",
    "\n",
    "df.head()"
   ]
  },
  {
   "cell_type": "code",
   "execution_count": 1,
   "metadata": {},
   "outputs": [],
   "source": [
    "from nltk.corpus import wordnet as wn\n",
    "from nltk.corpus import sentiwordnet as swn\n",
    "from nltk.stem import WordNetLemmatizer\n",
    "\n",
    "lemmatizer = WordNetLemmatizer()\n",
    "\n",
    "def penn_to_wn(tag):\n",
    "    if tag.startswith('J'):\n",
    "        return wn.ADJ\n",
    "    elif tag.startswith('N'):\n",
    "        return wn.NOUN\n",
    "    elif tag.startswith('R'):\n",
    "        return wn.ADV\n",
    "    elif tag.startswith('V'):\n",
    "        return wn.VERB\n",
    "    return None\n",
    "\n",
    "def get_sentiment(word,tag):\n",
    "    wn_tag = penn_to_wn(tag)\n",
    "    \n",
    "    if wn_tag not in (wn.NOUN, wn.ADJ, wn.ADV):\n",
    "        return []\n",
    "\n",
    "    lemma = lemmatizer.lemmatize(word, pos=wn_tag)\n",
    "    if not lemma:\n",
    "        return []\n",
    "    \n",
    "    synsets = wn.synsets(word, pos=wn_tag)\n",
    "    if not synsets:\n",
    "        return []\n",
    "\n",
    "    synset = synsets[0]\n",
    "    swn_synset = swn.senti_synset(synset.name())\n",
    "\n",
    "    return [synset.name(), swn_synset.pos_score(),swn_synset.neg_score(),swn_synset.obj_score()]\n",
    "\n",
    "    pos=neg=obj=count=0"
   ]
  },
  {
   "cell_type": "code",
   "execution_count": 12,
   "metadata": {},
   "outputs": [
    {
     "name": "stdout",
     "output_type": "stream",
     "text": [
      "0      -0.12\n",
      "1      -0.50\n",
      "2      -2.12\n",
      "3       0.62\n",
      "4       0.50\n",
      "        ... \n",
      "3077   -0.50\n",
      "3078   -0.88\n",
      "3079    0.00\n",
      "3080    0.75\n",
      "3081   -0.75\n",
      "Name: senti_score, Length: 3082, dtype: float64\n"
     ]
    },
    {
     "data": {
      "text/html": [
       "<div>\n",
       "<style scoped>\n",
       "    .dataframe tbody tr th:only-of-type {\n",
       "        vertical-align: middle;\n",
       "    }\n",
       "\n",
       "    .dataframe tbody tr th {\n",
       "        vertical-align: top;\n",
       "    }\n",
       "\n",
       "    .dataframe thead th {\n",
       "        text-align: right;\n",
       "    }\n",
       "</style>\n",
       "<table border=\"1\" class=\"dataframe\">\n",
       "  <thead>\n",
       "    <tr style=\"text-align: right;\">\n",
       "      <th></th>\n",
       "      <th>tweet</th>\n",
       "      <th>tweet_string</th>\n",
       "      <th>port_tweet</th>\n",
       "      <th>score</th>\n",
       "      <th>pos_tags</th>\n",
       "      <th>senti_score</th>\n",
       "    </tr>\n",
       "  </thead>\n",
       "  <tbody>\n",
       "    <tr>\n",
       "      <th>0</th>\n",
       "      <td>[the, real, reason, why, you, be, sad, you, be...</td>\n",
       "      <td>the real reason why you be sad you be attach t...</td>\n",
       "      <td>real reason whi sad attach peopl distant pay a...</td>\n",
       "      <td>Neutral</td>\n",
       "      <td>[(real, JJ), (reason, NN), (whi, NN), (sad, JJ...</td>\n",
       "      <td>-0.12</td>\n",
       "    </tr>\n",
       "    <tr>\n",
       "      <th>1</th>\n",
       "      <td>[my, biggest, problem, be, overthinking, every...</td>\n",
       "      <td>my biggest problem be overthinking everything</td>\n",
       "      <td>biggest problem overthink everyth</td>\n",
       "      <td>Neutral</td>\n",
       "      <td>[(biggest, JJS), (problem, NN), (overthink, NN...</td>\n",
       "      <td>-0.50</td>\n",
       "    </tr>\n",
       "    <tr>\n",
       "      <th>2</th>\n",
       "      <td>[the, worst, sadness, be, the, sadness, you, h...</td>\n",
       "      <td>the worst sadness be the sadness you have teac...</td>\n",
       "      <td>worst sad sad teach hide</td>\n",
       "      <td>Neutral</td>\n",
       "      <td>[(worst, RB), (sad, JJ), (sad, JJ), (teach, NN...</td>\n",
       "      <td>-2.12</td>\n",
       "    </tr>\n",
       "    <tr>\n",
       "      <th>3</th>\n",
       "      <td>[i, can, not, make, you, understand, i, can, n...</td>\n",
       "      <td>i cannot make you understand i cannot make any...</td>\n",
       "      <td>make understand make anyon understand happen i...</td>\n",
       "      <td>Neutral</td>\n",
       "      <td>[(make, NN), (understand, NN), (make, VB), (an...</td>\n",
       "      <td>0.62</td>\n",
       "    </tr>\n",
       "    <tr>\n",
       "      <th>4</th>\n",
       "      <td>[i, do, not, think, anyone, really, understand...</td>\n",
       "      <td>i do not think anyone really understand how ti...</td>\n",
       "      <td>think anyon realli understand tire act okay al...</td>\n",
       "      <td>Neutral</td>\n",
       "      <td>[(think, VB), (anyon, JJ), (realli, NNS), (und...</td>\n",
       "      <td>0.50</td>\n",
       "    </tr>\n",
       "  </tbody>\n",
       "</table>\n",
       "</div>"
      ],
      "text/plain": [
       "                                               tweet  \\\n",
       "0  [the, real, reason, why, you, be, sad, you, be...   \n",
       "1  [my, biggest, problem, be, overthinking, every...   \n",
       "2  [the, worst, sadness, be, the, sadness, you, h...   \n",
       "3  [i, can, not, make, you, understand, i, can, n...   \n",
       "4  [i, do, not, think, anyone, really, understand...   \n",
       "\n",
       "                                        tweet_string  \\\n",
       "0  the real reason why you be sad you be attach t...   \n",
       "1      my biggest problem be overthinking everything   \n",
       "2  the worst sadness be the sadness you have teac...   \n",
       "3  i cannot make you understand i cannot make any...   \n",
       "4  i do not think anyone really understand how ti...   \n",
       "\n",
       "                                          port_tweet    score  \\\n",
       "0  real reason whi sad attach peopl distant pay a...  Neutral   \n",
       "1                 biggest problem overthink everyth   Neutral   \n",
       "2                          worst sad sad teach hide   Neutral   \n",
       "3  make understand make anyon understand happen i...  Neutral   \n",
       "4  think anyon realli understand tire act okay al...  Neutral   \n",
       "\n",
       "                                            pos_tags  senti_score  \n",
       "0  [(real, JJ), (reason, NN), (whi, NN), (sad, JJ...        -0.12  \n",
       "1  [(biggest, JJS), (problem, NN), (overthink, NN...        -0.50  \n",
       "2  [(worst, RB), (sad, JJ), (sad, JJ), (teach, NN...        -2.12  \n",
       "3  [(make, NN), (understand, NN), (make, VB), (an...         0.62  \n",
       "4  [(think, VB), (anyon, JJ), (realli, NNS), (und...         0.50  "
      ]
     },
     "execution_count": 12,
     "metadata": {},
     "output_type": "execute_result"
    }
   ],
   "source": [
    "senti_score = []\n",
    "\n",
    "for pos_val in df['pos_tags']:\n",
    "    senti_val = [get_sentiment(x,y) for (x,y) in pos_val]\n",
    "    for score in senti_val:\n",
    "        try:\n",
    "            pos = pos + score[1]  \n",
    "            neg = neg + score[2]  \n",
    "        except:\n",
    "            continue\n",
    "    senti_score.append(round((pos - neg),2))\n",
    "    pos=neg=0    \n",
    "    \n",
    "df['senti_score'] = senti_score\n",
    "print(df['senti_score'])\n",
    "\n",
    "df.head()"
   ]
  },
  {
   "cell_type": "code",
   "execution_count": 13,
   "metadata": {},
   "outputs": [
    {
     "data": {
      "text/plain": [
       "senti_score\n",
       "Neutral     1268\n",
       "Negative    1036\n",
       "Positive     778\n",
       "Name: count, dtype: int64"
      ]
     },
     "execution_count": 13,
     "metadata": {},
     "output_type": "execute_result"
    }
   ],
   "source": [
    "df['senti_score'] = df['senti_score'].replace(0.00, 0)\n",
    "df['senti_score'] = np.where(df['senti_score'] < 0, 'Negative', np.where(df['senti_score'] == 0, 'Neutral', 'Positive'))\n",
    "df['senti_score'].value_counts()"
   ]
  },
  {
   "cell_type": "markdown",
   "metadata": {},
   "source": [
    "#### TextBlob"
   ]
  },
  {
   "cell_type": "code",
   "execution_count": 14,
   "metadata": {},
   "outputs": [
    {
     "data": {
      "text/html": [
       "<div>\n",
       "<style scoped>\n",
       "    .dataframe tbody tr th:only-of-type {\n",
       "        vertical-align: middle;\n",
       "    }\n",
       "\n",
       "    .dataframe tbody tr th {\n",
       "        vertical-align: top;\n",
       "    }\n",
       "\n",
       "    .dataframe thead th {\n",
       "        text-align: right;\n",
       "    }\n",
       "</style>\n",
       "<table border=\"1\" class=\"dataframe\">\n",
       "  <thead>\n",
       "    <tr style=\"text-align: right;\">\n",
       "      <th></th>\n",
       "      <th>tweet</th>\n",
       "      <th>tweet_string</th>\n",
       "      <th>port_tweet</th>\n",
       "      <th>score</th>\n",
       "      <th>pos_tags</th>\n",
       "      <th>senti_score</th>\n",
       "      <th>TextBlob_Subjectivity</th>\n",
       "      <th>TextBlob_Polarity</th>\n",
       "      <th>TextBlob_Analysis</th>\n",
       "    </tr>\n",
       "  </thead>\n",
       "  <tbody>\n",
       "    <tr>\n",
       "      <th>0</th>\n",
       "      <td>[the, real, reason, why, you, be, sad, you, be...</td>\n",
       "      <td>the real reason why you be sad you be attach t...</td>\n",
       "      <td>real reason whi sad attach peopl distant pay a...</td>\n",
       "      <td>Neutral</td>\n",
       "      <td>[(real, JJ), (reason, NN), (whi, NN), (sad, JJ...</td>\n",
       "      <td>Negative</td>\n",
       "      <td>0.403333</td>\n",
       "      <td>-0.093333</td>\n",
       "      <td>Negative</td>\n",
       "    </tr>\n",
       "    <tr>\n",
       "      <th>1</th>\n",
       "      <td>[my, biggest, problem, be, overthinking, every...</td>\n",
       "      <td>my biggest problem be overthinking everything</td>\n",
       "      <td>biggest problem overthink everyth</td>\n",
       "      <td>Neutral</td>\n",
       "      <td>[(biggest, JJS), (problem, NN), (overthink, NN...</td>\n",
       "      <td>Negative</td>\n",
       "      <td>0.000000</td>\n",
       "      <td>0.000000</td>\n",
       "      <td>Neutral</td>\n",
       "    </tr>\n",
       "    <tr>\n",
       "      <th>2</th>\n",
       "      <td>[the, worst, sadness, be, the, sadness, you, h...</td>\n",
       "      <td>the worst sadness be the sadness you have teac...</td>\n",
       "      <td>worst sad sad teach hide</td>\n",
       "      <td>Neutral</td>\n",
       "      <td>[(worst, RB), (sad, JJ), (sad, JJ), (teach, NN...</td>\n",
       "      <td>Negative</td>\n",
       "      <td>1.000000</td>\n",
       "      <td>-1.000000</td>\n",
       "      <td>Negative</td>\n",
       "    </tr>\n",
       "    <tr>\n",
       "      <th>3</th>\n",
       "      <td>[i, can, not, make, you, understand, i, can, n...</td>\n",
       "      <td>i cannot make you understand i cannot make any...</td>\n",
       "      <td>make understand make anyon understand happen i...</td>\n",
       "      <td>Neutral</td>\n",
       "      <td>[(make, NN), (understand, NN), (make, VB), (an...</td>\n",
       "      <td>Positive</td>\n",
       "      <td>0.000000</td>\n",
       "      <td>0.000000</td>\n",
       "      <td>Neutral</td>\n",
       "    </tr>\n",
       "    <tr>\n",
       "      <th>4</th>\n",
       "      <td>[i, do, not, think, anyone, really, understand...</td>\n",
       "      <td>i do not think anyone really understand how ti...</td>\n",
       "      <td>think anyon realli understand tire act okay al...</td>\n",
       "      <td>Neutral</td>\n",
       "      <td>[(think, VB), (anyon, JJ), (realli, NNS), (und...</td>\n",
       "      <td>Positive</td>\n",
       "      <td>0.477778</td>\n",
       "      <td>0.377778</td>\n",
       "      <td>Positive</td>\n",
       "    </tr>\n",
       "    <tr>\n",
       "      <th>...</th>\n",
       "      <td>...</td>\n",
       "      <td>...</td>\n",
       "      <td>...</td>\n",
       "      <td>...</td>\n",
       "      <td>...</td>\n",
       "      <td>...</td>\n",
       "      <td>...</td>\n",
       "      <td>...</td>\n",
       "      <td>...</td>\n",
       "    </tr>\n",
       "    <tr>\n",
       "      <th>3077</th>\n",
       "      <td>[cough, sneeze, be, tho, worst]</td>\n",
       "      <td>cough sneeze be tho worst</td>\n",
       "      <td>cough sneez tho worst</td>\n",
       "      <td>Neutral</td>\n",
       "      <td>[(cough, NN), (sneez, NN), (tho, NN), (worst, ...</td>\n",
       "      <td>Negative</td>\n",
       "      <td>1.000000</td>\n",
       "      <td>-1.000000</td>\n",
       "      <td>Negative</td>\n",
       "    </tr>\n",
       "    <tr>\n",
       "      <th>3078</th>\n",
       "      <td>[i, can, be, your, sad, whore, ahaha]</td>\n",
       "      <td>i can be your sad whore ahaha</td>\n",
       "      <td>sad whore ahaha</td>\n",
       "      <td>Neutral</td>\n",
       "      <td>[(sad, JJ), (whore, NN), (ahaha, NN)]</td>\n",
       "      <td>Negative</td>\n",
       "      <td>1.000000</td>\n",
       "      <td>-0.500000</td>\n",
       "      <td>Negative</td>\n",
       "    </tr>\n",
       "    <tr>\n",
       "      <th>3079</th>\n",
       "      <td>[bro, that, feel, you, get, after, you, sneeze]</td>\n",
       "      <td>bro that feel you get after you sneeze</td>\n",
       "      <td>bro feel get sneez</td>\n",
       "      <td>Neutral</td>\n",
       "      <td>[(bro, NN), (feel, VB), (get, NN), (sneez, NN)]</td>\n",
       "      <td>Neutral</td>\n",
       "      <td>0.000000</td>\n",
       "      <td>0.000000</td>\n",
       "      <td>Neutral</td>\n",
       "    </tr>\n",
       "    <tr>\n",
       "      <th>3080</th>\n",
       "      <td>[long, piss, be, the, best]</td>\n",
       "      <td>long piss be the best</td>\n",
       "      <td>long piss best</td>\n",
       "      <td>Neutral</td>\n",
       "      <td>[(long, RB), (piss, JJ), (best, JJS)]</td>\n",
       "      <td>Positive</td>\n",
       "      <td>0.350000</td>\n",
       "      <td>0.475000</td>\n",
       "      <td>Positive</td>\n",
       "    </tr>\n",
       "    <tr>\n",
       "      <th>3081</th>\n",
       "      <td>[dwight, you, ignorant, slut]</td>\n",
       "      <td>dwight you ignorant slut</td>\n",
       "      <td>dwight ignor slut</td>\n",
       "      <td>Neutral</td>\n",
       "      <td>[(dwight, JJ), (ignor, NN), (slut, NN)]</td>\n",
       "      <td>Negative</td>\n",
       "      <td>0.000000</td>\n",
       "      <td>0.000000</td>\n",
       "      <td>Neutral</td>\n",
       "    </tr>\n",
       "  </tbody>\n",
       "</table>\n",
       "<p>3082 rows × 9 columns</p>\n",
       "</div>"
      ],
      "text/plain": [
       "                                                  tweet  \\\n",
       "0     [the, real, reason, why, you, be, sad, you, be...   \n",
       "1     [my, biggest, problem, be, overthinking, every...   \n",
       "2     [the, worst, sadness, be, the, sadness, you, h...   \n",
       "3     [i, can, not, make, you, understand, i, can, n...   \n",
       "4     [i, do, not, think, anyone, really, understand...   \n",
       "...                                                 ...   \n",
       "3077                    [cough, sneeze, be, tho, worst]   \n",
       "3078              [i, can, be, your, sad, whore, ahaha]   \n",
       "3079    [bro, that, feel, you, get, after, you, sneeze]   \n",
       "3080                        [long, piss, be, the, best]   \n",
       "3081                      [dwight, you, ignorant, slut]   \n",
       "\n",
       "                                           tweet_string  \\\n",
       "0     the real reason why you be sad you be attach t...   \n",
       "1         my biggest problem be overthinking everything   \n",
       "2     the worst sadness be the sadness you have teac...   \n",
       "3     i cannot make you understand i cannot make any...   \n",
       "4     i do not think anyone really understand how ti...   \n",
       "...                                                 ...   \n",
       "3077                          cough sneeze be tho worst   \n",
       "3078                      i can be your sad whore ahaha   \n",
       "3079             bro that feel you get after you sneeze   \n",
       "3080                              long piss be the best   \n",
       "3081                           dwight you ignorant slut   \n",
       "\n",
       "                                             port_tweet    score  \\\n",
       "0     real reason whi sad attach peopl distant pay a...  Neutral   \n",
       "1                    biggest problem overthink everyth   Neutral   \n",
       "2                             worst sad sad teach hide   Neutral   \n",
       "3     make understand make anyon understand happen i...  Neutral   \n",
       "4     think anyon realli understand tire act okay al...  Neutral   \n",
       "...                                                 ...      ...   \n",
       "3077                             cough sneez tho worst   Neutral   \n",
       "3078                                   sad whore ahaha   Neutral   \n",
       "3079                                bro feel get sneez   Neutral   \n",
       "3080                                    long piss best   Neutral   \n",
       "3081                                 dwight ignor slut   Neutral   \n",
       "\n",
       "                                               pos_tags senti_score  \\\n",
       "0     [(real, JJ), (reason, NN), (whi, NN), (sad, JJ...    Negative   \n",
       "1     [(biggest, JJS), (problem, NN), (overthink, NN...    Negative   \n",
       "2     [(worst, RB), (sad, JJ), (sad, JJ), (teach, NN...    Negative   \n",
       "3     [(make, NN), (understand, NN), (make, VB), (an...    Positive   \n",
       "4     [(think, VB), (anyon, JJ), (realli, NNS), (und...    Positive   \n",
       "...                                                 ...         ...   \n",
       "3077  [(cough, NN), (sneez, NN), (tho, NN), (worst, ...    Negative   \n",
       "3078              [(sad, JJ), (whore, NN), (ahaha, NN)]    Negative   \n",
       "3079    [(bro, NN), (feel, VB), (get, NN), (sneez, NN)]     Neutral   \n",
       "3080              [(long, RB), (piss, JJ), (best, JJS)]    Positive   \n",
       "3081            [(dwight, JJ), (ignor, NN), (slut, NN)]    Negative   \n",
       "\n",
       "      TextBlob_Subjectivity  TextBlob_Polarity TextBlob_Analysis  \n",
       "0                  0.403333          -0.093333          Negative  \n",
       "1                  0.000000           0.000000           Neutral  \n",
       "2                  1.000000          -1.000000          Negative  \n",
       "3                  0.000000           0.000000           Neutral  \n",
       "4                  0.477778           0.377778          Positive  \n",
       "...                     ...                ...               ...  \n",
       "3077               1.000000          -1.000000          Negative  \n",
       "3078               1.000000          -0.500000          Negative  \n",
       "3079               0.000000           0.000000           Neutral  \n",
       "3080               0.350000           0.475000          Positive  \n",
       "3081               0.000000           0.000000           Neutral  \n",
       "\n",
       "[3082 rows x 9 columns]"
      ]
     },
     "execution_count": 14,
     "metadata": {},
     "output_type": "execute_result"
    }
   ],
   "source": [
    "from textblob import TextBlob\n",
    "\n",
    "def sentiment_analysis(df):\n",
    "    def getSubjectivity(text):\n",
    "        return TextBlob(text).sentiment.subjectivity\n",
    "    \n",
    "    def getPolarity(text):\n",
    "        return TextBlob(text).sentiment.polarity\n",
    "\n",
    "    df['TextBlob_Subjectivity'] = df['tweet_string'].apply(getSubjectivity)\n",
    "    df['TextBlob_Polarity'] = df['tweet_string'].apply(getPolarity)\n",
    "\n",
    "    def getAnalysis(score):\n",
    "        if score < 0:\n",
    "            return 'Negative'\n",
    "        elif score == 0:\n",
    "            return 'Neutral'\n",
    "        else:\n",
    "            return 'Positive'\n",
    "        \n",
    "    df['TextBlob_Analysis'] = df['TextBlob_Polarity'].apply(getAnalysis )\n",
    "\n",
    "    return df\n",
    "\n",
    "sentiment_analysis(df)"
   ]
  },
  {
   "cell_type": "code",
   "execution_count": 15,
   "metadata": {},
   "outputs": [
    {
     "data": {
      "text/plain": [
       "TextBlob_Analysis\n",
       "Neutral     1249\n",
       "Positive     979\n",
       "Negative     854\n",
       "Name: count, dtype: int64"
      ]
     },
     "execution_count": 15,
     "metadata": {},
     "output_type": "execute_result"
    }
   ],
   "source": [
    "df['TextBlob_Analysis'].value_counts()"
   ]
  },
  {
   "cell_type": "code",
   "execution_count": 1,
   "metadata": {},
   "outputs": [
    {
     "data": {
      "text/plain": [
       "text         object\n",
       "sentiment    object\n",
       "dtype: object"
      ]
     },
     "execution_count": 1,
     "metadata": {},
     "output_type": "execute_result"
    }
   ],
   "source": [
    "import pandas as pd\n",
    "\n",
    "reddit_df = pd.read_csv('../Reddit Data/final_dataset_2024-03-23.csv', index_col=0)\n",
    "reddit_df = reddit_df.rename(columns={'preprocessed-text-removal': 'text'})\n",
    "reddit_df['text'] = reddit_df['text'].astype('str')\n",
    "\n",
    "reddit_df.dtypes"
   ]
  },
  {
   "cell_type": "code",
   "execution_count": 3,
   "metadata": {},
   "outputs": [],
   "source": [
    "def preprocess_Reviews_data(data,name):\n",
    "    # Proprocessing the data\n",
    "    data[name]=data[name].str.lower()\n",
    "    # Code to remove the Hashtags from the text\n",
    "    data[name]=data[name].apply(lambda x:re.sub(r'\\B#\\S+','',x))\n",
    "    # Code to remove the links from the text\n",
    "    data[name]=data[name].apply(lambda x:re.sub(r\"http\\S+\", \"\", x))\n",
    "    # Code to remove the Special characters from the text \n",
    "    data[name]=data[name].apply(lambda x:' '.join(re.findall(r'\\w+', x)))\n",
    "    # Code to substitute the multiple spaces with single spaces\n",
    "    data[name]=data[name].apply(lambda x:re.sub(r'\\s+', ' ', x, flags=re.I))\n",
    "    # Code to remove all the single characters in the text\n",
    "    data[name]=data[name].apply(lambda x:re.sub(r'\\s+[a-zA-Z]\\s+', '', x))\n",
    "    # Remove the twitter handlers\n",
    "    data[name]=data[name].apply(lambda x:re.sub('@[^\\s]+','',x))\n",
    "\n",
    "# Function to tokenize and remove the stopwords    \n",
    "def rem_stopwords_tokenize(data,name):\n",
    "      \n",
    "    def getting(sen):\n",
    "        example_sent = sen\n",
    "        \n",
    "        filtered_sentence = [] \n",
    "\n",
    "        stop_words = set(stopwords.words('english')) \n",
    "\n",
    "        word_tokens = word_tokenize(example_sent) \n",
    "        \n",
    "        filtered_sentence = [w for w in word_tokens if not w in stop_words] \n",
    "        \n",
    "        return filtered_sentence\n",
    "    # Using \"getting(sen)\" function to append edited sentence to data\n",
    "    x=[]\n",
    "    for i in data[name].values:\n",
    "        x.append(getting(i))\n",
    "    data[name]=x\n",
    "\n",
    "lemmatizer = WordNetLemmatizer()\n",
    "def Lemmatization(data,name):\n",
    "    def getting2(sen):\n",
    "        \n",
    "        example = sen\n",
    "        output_sentence =[]\n",
    "        word_tokens2 = word_tokenize(example)\n",
    "        lemmatized_output = [lemmatizer.lemmatize(w) for w in word_tokens2]\n",
    "        \n",
    "        # Remove characters which have length less than 2  \n",
    "        without_single_chr = [word for word in lemmatized_output if len(word) > 2]\n",
    "        # Remove numbers\n",
    "        cleaned_data_title = [word for word in without_single_chr if not word.isnumeric()]\n",
    "        \n",
    "        return cleaned_data_title\n",
    "    # Using \"getting2(sen)\" function to append edited sentence to data\n",
    "    x=[]\n",
    "    for i in data[name].values:\n",
    "        x.append(getting2(i))\n",
    "    data[name]=x\n",
    "\n",
    "def make_sentences(data,name):\n",
    "    data[name]=data[name].apply(lambda x:' '.join([i+' ' for i in x]))\n",
    "    # Removing double spaces if created\n",
    "    data[name]=data[name].apply(lambda x:re.sub(r'\\s+', ' ', x, flags=re.I))"
   ]
  },
  {
   "cell_type": "code",
   "execution_count": 6,
   "metadata": {},
   "outputs": [
    {
     "data": {
      "text/html": [
       "<div>\n",
       "<style scoped>\n",
       "    .dataframe tbody tr th:only-of-type {\n",
       "        vertical-align: middle;\n",
       "    }\n",
       "\n",
       "    .dataframe tbody tr th {\n",
       "        vertical-align: top;\n",
       "    }\n",
       "\n",
       "    .dataframe thead th {\n",
       "        text-align: right;\n",
       "    }\n",
       "</style>\n",
       "<table border=\"1\" class=\"dataframe\">\n",
       "  <thead>\n",
       "    <tr style=\"text-align: right;\">\n",
       "      <th></th>\n",
       "      <th>text</th>\n",
       "      <th>sentiment</th>\n",
       "      <th>new_text</th>\n",
       "    </tr>\n",
       "  </thead>\n",
       "  <tbody>\n",
       "    <tr>\n",
       "      <th>0</th>\n",
       "      <td>therapist told trust issue</td>\n",
       "      <td>positive</td>\n",
       "      <td>therapist told trust issue</td>\n",
       "    </tr>\n",
       "    <tr>\n",
       "      <th>1</th>\n",
       "      <td>believe</td>\n",
       "      <td>neutral</td>\n",
       "      <td>believe</td>\n",
       "    </tr>\n",
       "    <tr>\n",
       "      <th>2</th>\n",
       "      <td>think internet ruined know anymore</td>\n",
       "      <td>negative</td>\n",
       "      <td>think internet ruined know anymore</td>\n",
       "    </tr>\n",
       "    <tr>\n",
       "      <th>3</th>\n",
       "      <td>hi longest time wondering enjoy anything anymo...</td>\n",
       "      <td>negative</td>\n",
       "      <td>longest time wondering enjoy anything anymore ...</td>\n",
       "    </tr>\n",
       "    <tr>\n",
       "      <th>4</th>\n",
       "      <td>masturbation guilt</td>\n",
       "      <td>negative</td>\n",
       "      <td>masturbation guilt</td>\n",
       "    </tr>\n",
       "  </tbody>\n",
       "</table>\n",
       "</div>"
      ],
      "text/plain": [
       "                                                text sentiment  \\\n",
       "0                        therapist told trust issue   positive   \n",
       "1                                           believe    neutral   \n",
       "2                think internet ruined know anymore   negative   \n",
       "3  hi longest time wondering enjoy anything anymo...  negative   \n",
       "4                                masturbation guilt   negative   \n",
       "\n",
       "                                            new_text  \n",
       "0                        therapist told trust issue   \n",
       "1                                           believe   \n",
       "2                think internet ruined know anymore   \n",
       "3  longest time wondering enjoy anything anymore ...  \n",
       "4                                masturbation guilt   "
      ]
     },
     "execution_count": 6,
     "metadata": {},
     "output_type": "execute_result"
    }
   ],
   "source": [
    "preprocess_Reviews_data(reddit_df,'text')\n",
    "rem_stopwords_tokenize(reddit_df,'text')\n",
    "make_sentences(reddit_df,'text')\n",
    "\n",
    "#Edits After Lemmatization\n",
    "final_Edit = reddit_df['text'].copy()\n",
    "reddit_df[\"new_text\"] = final_Edit\n",
    "\n",
    "# Using the Lemmatization function to lemmatize the hotel data\n",
    "Lemmatization(reddit_df,'new_text')\n",
    "# Converting all the texts back to sentences\n",
    "make_sentences(reddit_df,'new_text')\n",
    "\n",
    "reddit_df.head()"
   ]
  },
  {
   "cell_type": "code",
   "execution_count": 7,
   "metadata": {},
   "outputs": [
    {
     "data": {
      "text/plain": [
       "sentiment\n",
       "negative    13865\n",
       "positive     9304\n",
       "neutral      6357\n",
       "Name: count, dtype: int64"
      ]
     },
     "execution_count": 7,
     "metadata": {},
     "output_type": "execute_result"
    }
   ],
   "source": [
    "reddit_df.sentiment.value_counts()"
   ]
  },
  {
   "cell_type": "markdown",
   "metadata": {},
   "source": [
    "#### Bag of Words"
   ]
  },
  {
   "cell_type": "code",
   "execution_count": 8,
   "metadata": {},
   "outputs": [
    {
     "name": "stderr",
     "output_type": "stream",
     "text": [
      "c:\\Users\\Willis\\anaconda3\\Lib\\site-packages\\sklearn\\feature_extraction\\text.py:528: UserWarning: The parameter 'token_pattern' will not be used since 'tokenizer' is not None'\n",
      "  warnings.warn(\n"
     ]
    }
   ],
   "source": [
    "from sklearn.feature_extraction.text import CountVectorizer\n",
    "from sklearn.feature_extraction.text import CountVectorizer\n",
    "\n",
    "\n",
    "reddit_df['text_new'] = reddit_df['new_text'].copy()\n",
    "\n",
    "vec = CountVectorizer()\n",
    "X = vec.fit_transform(reddit_df['text_new'])\n",
    "df = pd.DataFrame(X.toarray(), columns = vec.get_feature_names_out())\n",
    "\n",
    "vect = CountVectorizer()\n",
    "vect.fit(reddit_df['text_new'])\n",
    "vect.get_feature_names_out()\n",
    "simple_train_dtm = vect.transform(reddit_df['text_new'])\n",
    "\n",
    "bow_counts = CountVectorizer(tokenizer= word_tokenize,\n",
    "                             ngram_range=(1,3))\n",
    "\n",
    "bow_data = bow_counts.fit_transform(reddit_df['text_new'])"
   ]
  },
  {
   "cell_type": "code",
   "execution_count": 9,
   "metadata": {},
   "outputs": [],
   "source": [
    "from sklearn.model_selection import train_test_split\n",
    "X_train_bow, X_test_bow, y_train_bow, y_test_bow = train_test_split(bow_data,\n",
    "                                                                    reddit_df['sentiment'],\n",
    "                                                                    test_size = 0.25,\n",
    "                                                                    random_state = 0)"
   ]
  },
  {
   "cell_type": "markdown",
   "metadata": {},
   "source": [
    "#### TF-IDF"
   ]
  },
  {
   "cell_type": "code",
   "execution_count": 10,
   "metadata": {},
   "outputs": [],
   "source": [
    "from sklearn.feature_extraction.text import TfidfVectorizer\n",
    "noise_words = []\n",
    "tfidf_counts = TfidfVectorizer(tokenizer= word_tokenize,\n",
    "                               stop_words=noise_words,\n",
    "                               ngram_range=(1,1)) \n",
    "\n",
    "tfidf_data = tfidf_counts.fit_transform(reddit_df['text_new'])"
   ]
  },
  {
   "cell_type": "code",
   "execution_count": 11,
   "metadata": {},
   "outputs": [],
   "source": [
    "X_train_tfidf, X_test_tfidf, y_train_tfidf, y_test_tfidf = train_test_split(tfidf_data,\n",
    "                                                                            reddit_df['sentiment'],\n",
    "                                                                            test_size = 0.25,\n",
    "                                                                            random_state = 0)"
   ]
  },
  {
   "cell_type": "markdown",
   "metadata": {},
   "source": [
    "#### SMOTE Sampling"
   ]
  },
  {
   "cell_type": "code",
   "execution_count": 12,
   "metadata": {},
   "outputs": [],
   "source": [
    "from imblearn.over_sampling import RandomOverSampler, SMOTE\n",
    "\n",
    "smote = SMOTE(random_state=42)\n",
    "X_train_bow_smote, y_train_bow_smote= smote.fit_resample(X_train_bow, y_train_bow)"
   ]
  },
  {
   "cell_type": "code",
   "execution_count": 13,
   "metadata": {},
   "outputs": [],
   "source": [
    "X_train_tfidf_smote, y_train_tfidf_smote= smote.fit_resample(X_train_tfidf, y_train_tfidf)"
   ]
  },
  {
   "cell_type": "markdown",
   "metadata": {},
   "source": [
    "#### Logistic Regression"
   ]
  },
  {
   "cell_type": "code",
   "execution_count": 18,
   "metadata": {},
   "outputs": [
    {
     "name": "stdout",
     "output_type": "stream",
     "text": [
      "              precision    recall  f1-score   support\n",
      "\n",
      "    negative       0.95      0.94      0.94      3456\n",
      "     neutral       0.92      0.99      0.95      1616\n",
      "    positive       0.93      0.89      0.91      2310\n",
      "\n",
      "    accuracy                           0.94      7382\n",
      "   macro avg       0.93      0.94      0.94      7382\n",
      "weighted avg       0.94      0.94      0.94      7382\n",
      "\n"
     ]
    },
    {
     "name": "stderr",
     "output_type": "stream",
     "text": [
      "c:\\Users\\Willis\\anaconda3\\Lib\\site-packages\\sklearn\\linear_model\\_logistic.py:458: ConvergenceWarning: lbfgs failed to converge (status=1):\n",
      "STOP: TOTAL NO. of ITERATIONS REACHED LIMIT.\n",
      "\n",
      "Increase the number of iterations (max_iter) or scale the data as shown in:\n",
      "    https://scikit-learn.org/stable/modules/preprocessing.html\n",
      "Please also refer to the documentation for alternative solver options:\n",
      "    https://scikit-learn.org/stable/modules/linear_model.html#logistic-regression\n",
      "  n_iter_i = _check_optimize_result(\n"
     ]
    }
   ],
   "source": [
    "from sklearn.linear_model import LogisticRegression\n",
    "lr = LogisticRegression()\n",
    "lr.fit(X_train_bow, y_train_bow)\n",
    "\n",
    "y_pred = lr.predict(X_test_bow)\n",
    "\n",
    "from sklearn.metrics import classification_report\n",
    "print(classification_report(y_test_bow,y_pred))"
   ]
  },
  {
   "cell_type": "code",
   "execution_count": 20,
   "metadata": {},
   "outputs": [
    {
     "name": "stdout",
     "output_type": "stream",
     "text": [
      "              precision    recall  f1-score   support\n",
      "\n",
      "    negative       0.96      0.92      0.94      3456\n",
      "     neutral       0.91      0.98      0.94      1616\n",
      "    positive       0.91      0.91      0.91      2310\n",
      "\n",
      "    accuracy                           0.93      7382\n",
      "   macro avg       0.93      0.94      0.93      7382\n",
      "weighted avg       0.93      0.93      0.93      7382\n",
      "\n"
     ]
    },
    {
     "name": "stderr",
     "output_type": "stream",
     "text": [
      "c:\\Users\\Willis\\anaconda3\\Lib\\site-packages\\sklearn\\linear_model\\_logistic.py:458: ConvergenceWarning: lbfgs failed to converge (status=1):\n",
      "STOP: TOTAL NO. of ITERATIONS REACHED LIMIT.\n",
      "\n",
      "Increase the number of iterations (max_iter) or scale the data as shown in:\n",
      "    https://scikit-learn.org/stable/modules/preprocessing.html\n",
      "Please also refer to the documentation for alternative solver options:\n",
      "    https://scikit-learn.org/stable/modules/linear_model.html#logistic-regression\n",
      "  n_iter_i = _check_optimize_result(\n"
     ]
    }
   ],
   "source": [
    "from sklearn.linear_model import LogisticRegression\n",
    "lr = LogisticRegression()\n",
    "lr.fit(X_train_bow_smote, y_train_bow_smote)\n",
    "\n",
    "y_pred = lr.predict(X_test_bow)\n",
    "\n",
    "from sklearn.metrics import classification_report\n",
    "print(classification_report(y_test_bow,y_pred))"
   ]
  },
  {
   "cell_type": "code",
   "execution_count": 19,
   "metadata": {},
   "outputs": [
    {
     "name": "stdout",
     "output_type": "stream",
     "text": [
      "              precision    recall  f1-score   support\n",
      "\n",
      "    negative       0.91      0.93      0.92      3456\n",
      "     neutral       0.93      0.95      0.94      1616\n",
      "    positive       0.90      0.86      0.88      2310\n",
      "\n",
      "    accuracy                           0.91      7382\n",
      "   macro avg       0.92      0.91      0.91      7382\n",
      "weighted avg       0.91      0.91      0.91      7382\n",
      "\n"
     ]
    },
    {
     "name": "stderr",
     "output_type": "stream",
     "text": [
      "c:\\Users\\Willis\\anaconda3\\Lib\\site-packages\\sklearn\\linear_model\\_logistic.py:458: ConvergenceWarning: lbfgs failed to converge (status=1):\n",
      "STOP: TOTAL NO. of ITERATIONS REACHED LIMIT.\n",
      "\n",
      "Increase the number of iterations (max_iter) or scale the data as shown in:\n",
      "    https://scikit-learn.org/stable/modules/preprocessing.html\n",
      "Please also refer to the documentation for alternative solver options:\n",
      "    https://scikit-learn.org/stable/modules/linear_model.html#logistic-regression\n",
      "  n_iter_i = _check_optimize_result(\n"
     ]
    }
   ],
   "source": [
    "from sklearn.linear_model import LogisticRegression\n",
    "lr = LogisticRegression()\n",
    "lr.fit(X_train_tfidf, y_train_tfidf)\n",
    "\n",
    "y_pred = lr.predict(X_test_tfidf)\n",
    "\n",
    "from sklearn.metrics import classification_report\n",
    "print(classification_report(y_test_tfidf,y_pred))"
   ]
  },
  {
   "cell_type": "markdown",
   "metadata": {},
   "source": [
    "#### SVM"
   ]
  },
  {
   "cell_type": "code",
   "execution_count": 21,
   "metadata": {},
   "outputs": [
    {
     "name": "stdout",
     "output_type": "stream",
     "text": [
      "              precision    recall  f1-score   support\n",
      "\n",
      "    negative       0.85      0.88      0.86      3456\n",
      "     neutral       0.74      0.94      0.83      1616\n",
      "    positive       0.90      0.68      0.77      2310\n",
      "\n",
      "    accuracy                           0.83      7382\n",
      "   macro avg       0.83      0.83      0.82      7382\n",
      "weighted avg       0.84      0.83      0.83      7382\n",
      "\n"
     ]
    }
   ],
   "source": [
    "from sklearn.svm import SVC\n",
    "svm = SVC()\n",
    "svm.fit(X_train_bow, y_train_bow)\n",
    "\n",
    "y_pred = svm.predict(X_test_bow)\n",
    "\n",
    "from sklearn.metrics import classification_report\n",
    "print(classification_report(y_test_bow,y_pred))"
   ]
  },
  {
   "cell_type": "code",
   "execution_count": 25,
   "metadata": {},
   "outputs": [
    {
     "name": "stdout",
     "output_type": "stream",
     "text": [
      "              precision    recall  f1-score   support\n",
      "\n",
      "    negative       0.93      0.95      0.94      3456\n",
      "     neutral       0.95      0.95      0.95      1616\n",
      "    positive       0.94      0.90      0.92      2310\n",
      "\n",
      "    accuracy                           0.94      7382\n",
      "   macro avg       0.94      0.93      0.94      7382\n",
      "weighted avg       0.94      0.94      0.94      7382\n",
      "\n"
     ]
    }
   ],
   "source": [
    "from sklearn.svm import SVC\n",
    "svm = SVC()\n",
    "svm.fit(X_train_tfidf, y_train_tfidf)\n",
    "\n",
    "y_pred = svm.predict(X_test_tfidf)\n",
    "\n",
    "from sklearn.metrics import classification_report\n",
    "print(classification_report(y_test_tfidf,y_pred))"
   ]
  },
  {
   "cell_type": "markdown",
   "metadata": {},
   "source": [
    "#### Decision Tree"
   ]
  },
  {
   "cell_type": "code",
   "execution_count": 26,
   "metadata": {},
   "outputs": [
    {
     "name": "stdout",
     "output_type": "stream",
     "text": [
      "              precision    recall  f1-score   support\n",
      "\n",
      "    negative       0.90      0.89      0.90      3456\n",
      "     neutral       0.93      0.99      0.96      1616\n",
      "    positive       0.86      0.83      0.85      2310\n",
      "\n",
      "    accuracy                           0.90      7382\n",
      "   macro avg       0.90      0.90      0.90      7382\n",
      "weighted avg       0.90      0.90      0.90      7382\n",
      "\n"
     ]
    }
   ],
   "source": [
    "from sklearn.tree import DecisionTreeClassifier\n",
    "dc = DecisionTreeClassifier()\n",
    "dc.fit(X_train_bow, y_train_bow)\n",
    "\n",
    "y_pred = dc.predict(X_test_bow)\n",
    "\n",
    "from sklearn.metrics import classification_report\n",
    "print(classification_report(y_test_bow,y_pred))"
   ]
  },
  {
   "cell_type": "code",
   "execution_count": 27,
   "metadata": {},
   "outputs": [
    {
     "name": "stdout",
     "output_type": "stream",
     "text": [
      "              precision    recall  f1-score   support\n",
      "\n",
      "    negative       0.89      0.89      0.89      3456\n",
      "     neutral       0.93      0.97      0.95      1616\n",
      "    positive       0.85      0.83      0.84      2310\n",
      "\n",
      "    accuracy                           0.89      7382\n",
      "   macro avg       0.89      0.90      0.89      7382\n",
      "weighted avg       0.89      0.89      0.89      7382\n",
      "\n"
     ]
    }
   ],
   "source": [
    "from sklearn.tree import DecisionTreeClassifier\n",
    "dc = DecisionTreeClassifier()\n",
    "dc.fit(X_train_tfidf, y_train_tfidf)\n",
    "\n",
    "y_pred = dc.predict(X_test_tfidf)\n",
    "\n",
    "from sklearn.metrics import classification_report\n",
    "print(classification_report(y_test_tfidf,y_pred))"
   ]
  },
  {
   "cell_type": "markdown",
   "metadata": {},
   "source": [
    "#### Naive Bayes Classification"
   ]
  },
  {
   "cell_type": "code",
   "execution_count": 28,
   "metadata": {},
   "outputs": [
    {
     "name": "stdout",
     "output_type": "stream",
     "text": [
      "              precision    recall  f1-score   support\n",
      "\n",
      "    negative       0.75      0.88      0.81      3456\n",
      "     neutral       1.00      0.42      0.59      1616\n",
      "    positive       0.74      0.86      0.80      2310\n",
      "\n",
      "    accuracy                           0.77      7382\n",
      "   macro avg       0.83      0.72      0.73      7382\n",
      "weighted avg       0.80      0.77      0.76      7382\n",
      "\n"
     ]
    }
   ],
   "source": [
    "from sklearn.naive_bayes import MultinomialNB\n",
    "nb = MultinomialNB()\n",
    "nb.fit(X_train_bow, y_train_bow)\n",
    "\n",
    "y_pred = nb.predict(X_test_bow)\n",
    "\n",
    "from sklearn.metrics import classification_report\n",
    "print(classification_report(y_test_bow, y_pred))"
   ]
  },
  {
   "cell_type": "code",
   "execution_count": 14,
   "metadata": {},
   "outputs": [
    {
     "name": "stdout",
     "output_type": "stream",
     "text": [
      "              precision    recall  f1-score   support\n",
      "\n",
      "    negative       0.82      0.86      0.84      3456\n",
      "     neutral       0.99      0.45      0.62      1616\n",
      "    positive       0.70      0.91      0.79      2310\n",
      "\n",
      "    accuracy                           0.79      7382\n",
      "   macro avg       0.84      0.74      0.75      7382\n",
      "weighted avg       0.82      0.79      0.78      7382\n",
      "\n"
     ]
    }
   ],
   "source": [
    "from sklearn.naive_bayes import MultinomialNB\n",
    "nb = MultinomialNB()\n",
    "nb.fit(X_train_bow_smote, y_train_bow_smote)\n",
    "\n",
    "y_pred = nb.predict(X_test_bow)\n",
    "\n",
    "from sklearn.metrics import classification_report\n",
    "print(classification_report(y_test_bow, y_pred))"
   ]
  },
  {
   "cell_type": "code",
   "execution_count": 29,
   "metadata": {},
   "outputs": [
    {
     "name": "stdout",
     "output_type": "stream",
     "text": [
      "              precision    recall  f1-score   support\n",
      "\n",
      "    negative       0.66      0.96      0.78      3456\n",
      "     neutral       0.98      0.49      0.65      1616\n",
      "    positive       0.85      0.57      0.68      2310\n",
      "\n",
      "    accuracy                           0.73      7382\n",
      "   macro avg       0.83      0.67      0.70      7382\n",
      "weighted avg       0.79      0.73      0.72      7382\n",
      "\n"
     ]
    }
   ],
   "source": [
    "from sklearn.naive_bayes import MultinomialNB\n",
    "nb = MultinomialNB()\n",
    "nb.fit(X_train_tfidf, y_train_tfidf)\n",
    "\n",
    "y_pred = nb.predict(X_test_tfidf)\n",
    "\n",
    "from sklearn.metrics import classification_report\n",
    "print(classification_report(y_test_tfidf, y_pred))"
   ]
  },
  {
   "cell_type": "code",
   "execution_count": 15,
   "metadata": {},
   "outputs": [
    {
     "name": "stdout",
     "output_type": "stream",
     "text": [
      "              precision    recall  f1-score   support\n",
      "\n",
      "    negative       0.83      0.85      0.84      3456\n",
      "     neutral       0.97      0.65      0.78      1616\n",
      "    positive       0.71      0.84      0.77      2310\n",
      "\n",
      "    accuracy                           0.81      7382\n",
      "   macro avg       0.84      0.78      0.80      7382\n",
      "weighted avg       0.82      0.81      0.80      7382\n",
      "\n"
     ]
    }
   ],
   "source": [
    "from sklearn.naive_bayes import MultinomialNB\n",
    "nb = MultinomialNB()\n",
    "nb.fit(X_train_tfidf_smote, y_train_tfidf_smote)\n",
    "\n",
    "y_pred = nb.predict(X_test_tfidf)\n",
    "\n",
    "from sklearn.metrics import classification_report\n",
    "print(classification_report(y_test_tfidf, y_pred))"
   ]
  },
  {
   "cell_type": "code",
   "execution_count": 20,
   "metadata": {},
   "outputs": [
    {
     "data": {
      "text/html": [
       "<div>\n",
       "<style scoped>\n",
       "    .dataframe tbody tr th:only-of-type {\n",
       "        vertical-align: middle;\n",
       "    }\n",
       "\n",
       "    .dataframe tbody tr th {\n",
       "        vertical-align: top;\n",
       "    }\n",
       "\n",
       "    .dataframe thead th {\n",
       "        text-align: right;\n",
       "    }\n",
       "</style>\n",
       "<table border=\"1\" class=\"dataframe\">\n",
       "  <thead>\n",
       "    <tr style=\"text-align: right;\">\n",
       "      <th></th>\n",
       "      <th>learning_rate</th>\n",
       "      <th>optimizer</th>\n",
       "      <th>epoch_10</th>\n",
       "      <th>epoch_20</th>\n",
       "      <th>epoch_30</th>\n",
       "      <th>epoch_40</th>\n",
       "      <th>epoch_50</th>\n",
       "      <th>epoch_60</th>\n",
       "      <th>epoch_70</th>\n",
       "      <th>epoch_80</th>\n",
       "      <th>epoch_90</th>\n",
       "      <th>epoch_100</th>\n",
       "    </tr>\n",
       "  </thead>\n",
       "  <tbody>\n",
       "    <tr>\n",
       "      <th>0</th>\n",
       "      <td>0.0100</td>\n",
       "      <td>SGD</td>\n",
       "      <td>0.6656</td>\n",
       "      <td>0.4095</td>\n",
       "      <td>0.2598</td>\n",
       "      <td>0.1710</td>\n",
       "      <td>0.1923</td>\n",
       "      <td>0.1024</td>\n",
       "      <td>0.0587</td>\n",
       "      <td>0.0755</td>\n",
       "      <td>0.0351</td>\n",
       "      <td>0.0468</td>\n",
       "    </tr>\n",
       "    <tr>\n",
       "      <th>1</th>\n",
       "      <td>0.0010</td>\n",
       "      <td>SGD</td>\n",
       "      <td>1.0224</td>\n",
       "      <td>1.0198</td>\n",
       "      <td>0.9650</td>\n",
       "      <td>0.9118</td>\n",
       "      <td>0.9000</td>\n",
       "      <td>0.8451</td>\n",
       "      <td>0.8281</td>\n",
       "      <td>0.7805</td>\n",
       "      <td>0.7427</td>\n",
       "      <td>0.6931</td>\n",
       "    </tr>\n",
       "    <tr>\n",
       "      <th>2</th>\n",
       "      <td>0.0005</td>\n",
       "      <td>SGD</td>\n",
       "      <td>1.0481</td>\n",
       "      <td>1.0240</td>\n",
       "      <td>1.0101</td>\n",
       "      <td>1.0043</td>\n",
       "      <td>0.9827</td>\n",
       "      <td>0.9701</td>\n",
       "      <td>0.9451</td>\n",
       "      <td>0.9073</td>\n",
       "      <td>0.9060</td>\n",
       "      <td>0.8920</td>\n",
       "    </tr>\n",
       "    <tr>\n",
       "      <th>3</th>\n",
       "      <td>0.0001</td>\n",
       "      <td>SGD</td>\n",
       "      <td>1.0868</td>\n",
       "      <td>1.0785</td>\n",
       "      <td>1.0633</td>\n",
       "      <td>1.0590</td>\n",
       "      <td>1.0577</td>\n",
       "      <td>1.0469</td>\n",
       "      <td>1.0512</td>\n",
       "      <td>1.0513</td>\n",
       "      <td>1.0363</td>\n",
       "      <td>1.0450</td>\n",
       "    </tr>\n",
       "    <tr>\n",
       "      <th>4</th>\n",
       "      <td>0.0100</td>\n",
       "      <td>Adam</td>\n",
       "      <td>0.0003</td>\n",
       "      <td>0.0004</td>\n",
       "      <td>0.0004</td>\n",
       "      <td>0.0036</td>\n",
       "      <td>0.0015</td>\n",
       "      <td>0.0001</td>\n",
       "      <td>0.0009</td>\n",
       "      <td>0.0002</td>\n",
       "      <td>0.0001</td>\n",
       "      <td>0.0002</td>\n",
       "    </tr>\n",
       "  </tbody>\n",
       "</table>\n",
       "</div>"
      ],
      "text/plain": [
       "   learning_rate optimizer  epoch_10  epoch_20  epoch_30  epoch_40  epoch_50  \\\n",
       "0         0.0100       SGD    0.6656    0.4095    0.2598    0.1710    0.1923   \n",
       "1         0.0010       SGD    1.0224    1.0198    0.9650    0.9118    0.9000   \n",
       "2         0.0005       SGD    1.0481    1.0240    1.0101    1.0043    0.9827   \n",
       "3         0.0001       SGD    1.0868    1.0785    1.0633    1.0590    1.0577   \n",
       "4         0.0100      Adam    0.0003    0.0004    0.0004    0.0036    0.0015   \n",
       "\n",
       "   epoch_60  epoch_70  epoch_80  epoch_90  epoch_100  \n",
       "0    0.1024    0.0587    0.0755    0.0351     0.0468  \n",
       "1    0.8451    0.8281    0.7805    0.7427     0.6931  \n",
       "2    0.9701    0.9451    0.9073    0.9060     0.8920  \n",
       "3    1.0469    1.0512    1.0513    1.0363     1.0450  \n",
       "4    0.0001    0.0009    0.0002    0.0001     0.0002  "
      ]
     },
     "execution_count": 20,
     "metadata": {},
     "output_type": "execute_result"
    }
   ],
   "source": [
    "df = pd.read_excel('../Reddit Data/model loss.xlsx')\n",
    "df.head()"
   ]
  },
  {
   "cell_type": "code",
   "execution_count": 22,
   "metadata": {},
   "outputs": [
    {
     "data": {
      "image/png": "[encoded data removed]",
      "text/plain": [
       "<Figure size 1000x600 with 1 Axes>"
      ]
     },
     "metadata": {},
     "output_type": "display_data"
    }
   ],
   "source": [
    "import matplotlib.pyplot as plt\n",
    "\n",
    "learning_rates = df['learning_rate'].unique()\n",
    "optimizers = df['optimizer'].unique()\n",
    "epochs = range(1, 100, 10)\n",
    "\n",
    "plt.figure(figsize=(10, 6))\n",
    "\n",
    "for lr in learning_rates:\n",
    "    for optimizer in optimizers:\n",
    "        optimizer_data = df[(df['learning_rate'] == lr) & (df['optimizer'] == optimizer)]\n",
    "        plt.plot(epochs, optimizer_data.iloc[0, 2:], label=f'LR={lr}, Optimizer={optimizer}')\n",
    "\n",
    "plt.title('Learning Rate vs. Loss over Epochs')\n",
    "plt.xlabel('Epoch')\n",
    "plt.ylabel('Loss')\n",
    "plt.legend()\n",
    "plt.grid(True)\n",
    "plt.show()\n"
   ]
  },
  {
   "cell_type": "code",
   "execution_count": null,
   "metadata": {},
   "outputs": [],
   "source": []
  }
 ],
 "metadata": {
  "kernelspec": {
   "display_name": "base",
   "language": "python",
   "name": "python3"
  },
  "language_info": {
   "codemirror_mode": {
    "name": "ipython",
    "version": 3
   },
   "file_extension": ".py",
   "mimetype": "text/x-python",
   "name": "python",
   "nbconvert_exporter": "python",
   "pygments_lexer": "ipython3",
   "version": "3.11.7"
  }
 },
 "nbformat": 4,
 "nbformat_minor": 2
}
