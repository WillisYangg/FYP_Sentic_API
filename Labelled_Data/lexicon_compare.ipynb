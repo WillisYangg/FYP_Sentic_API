{
 "cells": [
  {
   "cell_type": "code",
   "execution_count": 27,
   "metadata": {},
   "outputs": [],
   "source": [
    "import sqlalchemy\n",
    "import configparser\n",
    "import pandas as pd\n",
    "import numpy as np\n",
    "import re\n",
    "import nltk\n",
    "import seaborn as sns\n",
    "import matplotlib.pyplot as plt"
   ]
  },
  {
   "cell_type": "code",
   "execution_count": 28,
   "metadata": {},
   "outputs": [],
   "source": [
    "config = configparser.ConfigParser()\n",
    "config_file = '../config.ini'\n",
    "config.read(config_file)\n",
    "default = config['DEFAULT-SQLALCHEMY']\n",
    "engine = sqlalchemy.create_engine('mysql+mysqlconnector://{0}:{1}@{2}/{3}'.\n",
    "                                            format(default['DB_USER'], default['DB_PASSWORD'], \n",
    "                                                    default['DB_IP'], default['DB_DATABASE']))"
   ]
  },
  {
   "cell_type": "code",
   "execution_count": 29,
   "metadata": {},
   "outputs": [
    {
     "data": {
      "text/plain": [
       "tweet    object\n",
       "dtype: object"
      ]
     },
     "execution_count": 29,
     "metadata": {},
     "output_type": "execute_result"
    }
   ],
   "source": [
    "labelled_df = pd.read_csv('clean_d_tweets.csv')\n",
    "df = pd.DataFrame(labelled_df['tweet'])\n",
    "df['tweet'] = df['tweet'].astype(str)\n",
    "df.dtypes"
   ]
  },
  {
   "cell_type": "markdown",
   "metadata": {},
   "source": [
    "#### Tokenization"
   ]
  },
  {
   "cell_type": "code",
   "execution_count": 30,
   "metadata": {},
   "outputs": [
    {
     "data": {
      "text/html": [
       "<div>\n",
       "<style scoped>\n",
       "    .dataframe tbody tr th:only-of-type {\n",
       "        vertical-align: middle;\n",
       "    }\n",
       "\n",
       "    .dataframe tbody tr th {\n",
       "        vertical-align: top;\n",
       "    }\n",
       "\n",
       "    .dataframe thead th {\n",
       "        text-align: right;\n",
       "    }\n",
       "</style>\n",
       "<table border=\"1\" class=\"dataframe\">\n",
       "  <thead>\n",
       "    <tr style=\"text-align: right;\">\n",
       "      <th></th>\n",
       "      <th>tweet</th>\n",
       "    </tr>\n",
       "  </thead>\n",
       "  <tbody>\n",
       "    <tr>\n",
       "      <th>0</th>\n",
       "      <td>[the, real, reason, why, you, be, sad, you, be...</td>\n",
       "    </tr>\n",
       "    <tr>\n",
       "      <th>1</th>\n",
       "      <td>[my, biggest, problem, be, overthinking, every...</td>\n",
       "    </tr>\n",
       "    <tr>\n",
       "      <th>2</th>\n",
       "      <td>[the, worst, sadness, be, the, sadness, you, h...</td>\n",
       "    </tr>\n",
       "    <tr>\n",
       "      <th>3</th>\n",
       "      <td>[i, can, not, make, you, understand, i, can, n...</td>\n",
       "    </tr>\n",
       "    <tr>\n",
       "      <th>4</th>\n",
       "      <td>[i, do, not, think, anyone, really, understand...</td>\n",
       "    </tr>\n",
       "  </tbody>\n",
       "</table>\n",
       "</div>"
      ],
      "text/plain": [
       "                                               tweet\n",
       "0  [the, real, reason, why, you, be, sad, you, be...\n",
       "1  [my, biggest, problem, be, overthinking, every...\n",
       "2  [the, worst, sadness, be, the, sadness, you, h...\n",
       "3  [i, can, not, make, you, understand, i, can, n...\n",
       "4  [i, do, not, think, anyone, really, understand..."
      ]
     },
     "execution_count": 30,
     "metadata": {},
     "output_type": "execute_result"
    }
   ],
   "source": [
    "from nltk.tokenize import word_tokenize\n",
    "\n",
    "df['tweet'] = df['tweet'].apply(lambda x: word_tokenize(x))\n",
    "\n",
    "df.head()"
   ]
  },
  {
   "cell_type": "markdown",
   "metadata": {},
   "source": [
    "#### Stemming"
   ]
  },
  {
   "cell_type": "code",
   "execution_count": 31,
   "metadata": {},
   "outputs": [
    {
     "data": {
      "text/html": [
       "<div>\n",
       "<style scoped>\n",
       "    .dataframe tbody tr th:only-of-type {\n",
       "        vertical-align: middle;\n",
       "    }\n",
       "\n",
       "    .dataframe tbody tr th {\n",
       "        vertical-align: top;\n",
       "    }\n",
       "\n",
       "    .dataframe thead th {\n",
       "        text-align: right;\n",
       "    }\n",
       "</style>\n",
       "<table border=\"1\" class=\"dataframe\">\n",
       "  <thead>\n",
       "    <tr style=\"text-align: right;\">\n",
       "      <th></th>\n",
       "      <th>tweet</th>\n",
       "      <th>port_tweet</th>\n",
       "    </tr>\n",
       "  </thead>\n",
       "  <tbody>\n",
       "    <tr>\n",
       "      <th>0</th>\n",
       "      <td>[the, real, reason, why, you, be, sad, you, be...</td>\n",
       "      <td>[the, real, reason, whi, you, be, sad, you, be...</td>\n",
       "    </tr>\n",
       "    <tr>\n",
       "      <th>1</th>\n",
       "      <td>[my, biggest, problem, be, overthinking, every...</td>\n",
       "      <td>[my, biggest, problem, be, overthink, everyth]</td>\n",
       "    </tr>\n",
       "    <tr>\n",
       "      <th>2</th>\n",
       "      <td>[the, worst, sadness, be, the, sadness, you, h...</td>\n",
       "      <td>[the, worst, sad, be, the, sad, you, have, tea...</td>\n",
       "    </tr>\n",
       "    <tr>\n",
       "      <th>3</th>\n",
       "      <td>[i, can, not, make, you, understand, i, can, n...</td>\n",
       "      <td>[i, can, not, make, you, understand, i, can, n...</td>\n",
       "    </tr>\n",
       "    <tr>\n",
       "      <th>4</th>\n",
       "      <td>[i, do, not, think, anyone, really, understand...</td>\n",
       "      <td>[i, do, not, think, anyon, realli, understand,...</td>\n",
       "    </tr>\n",
       "  </tbody>\n",
       "</table>\n",
       "</div>"
      ],
      "text/plain": [
       "                                               tweet  \\\n",
       "0  [the, real, reason, why, you, be, sad, you, be...   \n",
       "1  [my, biggest, problem, be, overthinking, every...   \n",
       "2  [the, worst, sadness, be, the, sadness, you, h...   \n",
       "3  [i, can, not, make, you, understand, i, can, n...   \n",
       "4  [i, do, not, think, anyone, really, understand...   \n",
       "\n",
       "                                          port_tweet  \n",
       "0  [the, real, reason, whi, you, be, sad, you, be...  \n",
       "1     [my, biggest, problem, be, overthink, everyth]  \n",
       "2  [the, worst, sad, be, the, sad, you, have, tea...  \n",
       "3  [i, can, not, make, you, understand, i, can, n...  \n",
       "4  [i, do, not, think, anyon, realli, understand,...  "
      ]
     },
     "execution_count": 31,
     "metadata": {},
     "output_type": "execute_result"
    }
   ],
   "source": [
    "from nltk.stem import PorterStemmer\n",
    "\n",
    "porterstemmer = PorterStemmer()\n",
    "df['port_tweet'] = df['tweet'].apply(lambda x: [porterstemmer.stem(word) for word in x])\n",
    "\n",
    "df.head()"
   ]
  },
  {
   "cell_type": "markdown",
   "metadata": {},
   "source": [
    "#### Removal of Stop words"
   ]
  },
  {
   "cell_type": "code",
   "execution_count": 32,
   "metadata": {},
   "outputs": [
    {
     "data": {
      "text/html": [
       "<div>\n",
       "<style scoped>\n",
       "    .dataframe tbody tr th:only-of-type {\n",
       "        vertical-align: middle;\n",
       "    }\n",
       "\n",
       "    .dataframe tbody tr th {\n",
       "        vertical-align: top;\n",
       "    }\n",
       "\n",
       "    .dataframe thead th {\n",
       "        text-align: right;\n",
       "    }\n",
       "</style>\n",
       "<table border=\"1\" class=\"dataframe\">\n",
       "  <thead>\n",
       "    <tr style=\"text-align: right;\">\n",
       "      <th></th>\n",
       "      <th>tweet</th>\n",
       "      <th>port_tweet</th>\n",
       "    </tr>\n",
       "  </thead>\n",
       "  <tbody>\n",
       "    <tr>\n",
       "      <th>0</th>\n",
       "      <td>[the, real, reason, why, you, be, sad, you, be...</td>\n",
       "      <td>[real, reason, whi, sad, attach, peopl, distan...</td>\n",
       "    </tr>\n",
       "    <tr>\n",
       "      <th>1</th>\n",
       "      <td>[my, biggest, problem, be, overthinking, every...</td>\n",
       "      <td>[biggest, problem, overthink, everyth]</td>\n",
       "    </tr>\n",
       "    <tr>\n",
       "      <th>2</th>\n",
       "      <td>[the, worst, sadness, be, the, sadness, you, h...</td>\n",
       "      <td>[worst, sad, sad, teach, hide]</td>\n",
       "    </tr>\n",
       "    <tr>\n",
       "      <th>3</th>\n",
       "      <td>[i, can, not, make, you, understand, i, can, n...</td>\n",
       "      <td>[make, understand, make, anyon, understand, ha...</td>\n",
       "    </tr>\n",
       "    <tr>\n",
       "      <th>4</th>\n",
       "      <td>[i, do, not, think, anyone, really, understand...</td>\n",
       "      <td>[think, anyon, realli, understand, tire, act, ...</td>\n",
       "    </tr>\n",
       "  </tbody>\n",
       "</table>\n",
       "</div>"
      ],
      "text/plain": [
       "                                               tweet  \\\n",
       "0  [the, real, reason, why, you, be, sad, you, be...   \n",
       "1  [my, biggest, problem, be, overthinking, every...   \n",
       "2  [the, worst, sadness, be, the, sadness, you, h...   \n",
       "3  [i, can, not, make, you, understand, i, can, n...   \n",
       "4  [i, do, not, think, anyone, really, understand...   \n",
       "\n",
       "                                          port_tweet  \n",
       "0  [real, reason, whi, sad, attach, peopl, distan...  \n",
       "1             [biggest, problem, overthink, everyth]  \n",
       "2                     [worst, sad, sad, teach, hide]  \n",
       "3  [make, understand, make, anyon, understand, ha...  \n",
       "4  [think, anyon, realli, understand, tire, act, ...  "
      ]
     },
     "execution_count": 32,
     "metadata": {},
     "output_type": "execute_result"
    }
   ],
   "source": [
    "from nltk.corpus import stopwords\n",
    "\n",
    "stop_words = stopwords.words('english')\n",
    "\n",
    "def remove_stopwords(text):\n",
    "    return [word for word in text if word not in stop_words]\n",
    "\n",
    "df['port_tweet'] = df['port_tweet'].apply(remove_stopwords)\n",
    "\n",
    "df.head()"
   ]
  },
  {
   "cell_type": "markdown",
   "metadata": {},
   "source": [
    "#### VADER"
   ]
  },
  {
   "cell_type": "code",
   "execution_count": 33,
   "metadata": {},
   "outputs": [
    {
     "data": {
      "text/plain": [
       "score\n",
       "Negative    3055\n",
       "Positive      27\n",
       "Name: count, dtype: int64"
      ]
     },
     "execution_count": 33,
     "metadata": {},
     "output_type": "execute_result"
    }
   ],
   "source": [
    "from vaderSentiment.vaderSentiment import SentimentIntensityAnalyzer\n",
    "\n",
    "sentiment_analyzer = SentimentIntensityAnalyzer()\n",
    "df['score'] = df['port_tweet'].apply(lambda x: sentiment_analyzer.polarity_scores(x)['compound'])\n",
    "\n",
    "df['score'] = np.where(df['score'] <= 0, 'Negative', 'Positive')\n",
    "df['score'].value_counts()"
   ]
  },
  {
   "cell_type": "markdown",
   "metadata": {},
   "source": [
    "#### SentiWordNet"
   ]
  },
  {
   "cell_type": "code",
   "execution_count": 34,
   "metadata": {},
   "outputs": [],
   "source": [
    "def make_sentences(data,name):\n",
    "    data[name]=data[name].apply(lambda x:' '.join([i+' ' for i in x]))\n",
    "    data[name]=data[name].apply(lambda x:re.sub(r'\\s+', ' ', x, flags=re.I))"
   ]
  },
  {
   "cell_type": "code",
   "execution_count": 35,
   "metadata": {},
   "outputs": [],
   "source": [
    "make_sentences(df,'port_tweet')"
   ]
  },
  {
   "cell_type": "code",
   "execution_count": 36,
   "metadata": {},
   "outputs": [
    {
     "data": {
      "text/html": [
       "<div>\n",
       "<style scoped>\n",
       "    .dataframe tbody tr th:only-of-type {\n",
       "        vertical-align: middle;\n",
       "    }\n",
       "\n",
       "    .dataframe tbody tr th {\n",
       "        vertical-align: top;\n",
       "    }\n",
       "\n",
       "    .dataframe thead th {\n",
       "        text-align: right;\n",
       "    }\n",
       "</style>\n",
       "<table border=\"1\" class=\"dataframe\">\n",
       "  <thead>\n",
       "    <tr style=\"text-align: right;\">\n",
       "      <th></th>\n",
       "      <th>tweet</th>\n",
       "      <th>port_tweet</th>\n",
       "      <th>score</th>\n",
       "      <th>pos_tags</th>\n",
       "    </tr>\n",
       "  </thead>\n",
       "  <tbody>\n",
       "    <tr>\n",
       "      <th>0</th>\n",
       "      <td>[the, real, reason, why, you, be, sad, you, be...</td>\n",
       "      <td>real reason whi sad attach peopl distant pay a...</td>\n",
       "      <td>Negative</td>\n",
       "      <td>[(real, JJ), (reason, NN), (whi, NN), (sad, JJ...</td>\n",
       "    </tr>\n",
       "    <tr>\n",
       "      <th>1</th>\n",
       "      <td>[my, biggest, problem, be, overthinking, every...</td>\n",
       "      <td>biggest problem overthink everyth</td>\n",
       "      <td>Negative</td>\n",
       "      <td>[(biggest, JJS), (problem, NN), (overthink, NN...</td>\n",
       "    </tr>\n",
       "    <tr>\n",
       "      <th>2</th>\n",
       "      <td>[the, worst, sadness, be, the, sadness, you, h...</td>\n",
       "      <td>worst sad sad teach hide</td>\n",
       "      <td>Negative</td>\n",
       "      <td>[(worst, RB), (sad, JJ), (sad, JJ), (teach, NN...</td>\n",
       "    </tr>\n",
       "    <tr>\n",
       "      <th>3</th>\n",
       "      <td>[i, can, not, make, you, understand, i, can, n...</td>\n",
       "      <td>make understand make anyon understand happen i...</td>\n",
       "      <td>Negative</td>\n",
       "      <td>[(make, NN), (understand, NN), (make, VB), (an...</td>\n",
       "    </tr>\n",
       "    <tr>\n",
       "      <th>4</th>\n",
       "      <td>[i, do, not, think, anyone, really, understand...</td>\n",
       "      <td>think anyon realli understand tire act okay al...</td>\n",
       "      <td>Negative</td>\n",
       "      <td>[(think, VB), (anyon, JJ), (realli, NNS), (und...</td>\n",
       "    </tr>\n",
       "  </tbody>\n",
       "</table>\n",
       "</div>"
      ],
      "text/plain": [
       "                                               tweet  \\\n",
       "0  [the, real, reason, why, you, be, sad, you, be...   \n",
       "1  [my, biggest, problem, be, overthinking, every...   \n",
       "2  [the, worst, sadness, be, the, sadness, you, h...   \n",
       "3  [i, can, not, make, you, understand, i, can, n...   \n",
       "4  [i, do, not, think, anyone, really, understand...   \n",
       "\n",
       "                                          port_tweet     score  \\\n",
       "0  real reason whi sad attach peopl distant pay a...  Negative   \n",
       "1                 biggest problem overthink everyth   Negative   \n",
       "2                          worst sad sad teach hide   Negative   \n",
       "3  make understand make anyon understand happen i...  Negative   \n",
       "4  think anyon realli understand tire act okay al...  Negative   \n",
       "\n",
       "                                            pos_tags  \n",
       "0  [(real, JJ), (reason, NN), (whi, NN), (sad, JJ...  \n",
       "1  [(biggest, JJS), (problem, NN), (overthink, NN...  \n",
       "2  [(worst, RB), (sad, JJ), (sad, JJ), (teach, NN...  \n",
       "3  [(make, NN), (understand, NN), (make, VB), (an...  \n",
       "4  [(think, VB), (anyon, JJ), (realli, NNS), (und...  "
      ]
     },
     "execution_count": 36,
     "metadata": {},
     "output_type": "execute_result"
    }
   ],
   "source": [
    "pos=neg=obj=count=0\n",
    "\n",
    "postagging = []\n",
    "\n",
    "for review in df['port_tweet']:\n",
    "    list = word_tokenize(review)\n",
    "    postagging.append(nltk.pos_tag(list))\n",
    "\n",
    "df['pos_tags'] = postagging\n",
    "\n",
    "df.head()"
   ]
  },
  {
   "cell_type": "code",
   "execution_count": 38,
   "metadata": {},
   "outputs": [],
   "source": [
    "from nltk.corpus import wordnet as wn\n",
    "from nltk.corpus import sentiwordnet as swn\n",
    "from nltk.stem import WordNetLemmatizer\n",
    "\n",
    "lemmatizer = WordNetLemmatizer()\n",
    "\n",
    "def penn_to_wn(tag):\n",
    "    if tag.startswith('J'):\n",
    "        return wn.ADJ\n",
    "    elif tag.startswith('N'):\n",
    "        return wn.NOUN\n",
    "    elif tag.startswith('R'):\n",
    "        return wn.ADV\n",
    "    elif tag.startswith('V'):\n",
    "        return wn.VERB\n",
    "    return None\n",
    "\n",
    "def get_sentiment(word,tag):\n",
    "    wn_tag = penn_to_wn(tag)\n",
    "    \n",
    "    if wn_tag not in (wn.NOUN, wn.ADJ, wn.ADV):\n",
    "        return []\n",
    "\n",
    "    lemma = lemmatizer.lemmatize(word, pos=wn_tag)\n",
    "    if not lemma:\n",
    "        return []\n",
    "    \n",
    "    synsets = wn.synsets(word, pos=wn_tag)\n",
    "    if not synsets:\n",
    "        return []\n",
    "\n",
    "    synset = synsets[0]\n",
    "    swn_synset = swn.senti_synset(synset.name())\n",
    "\n",
    "    return [synset.name(), swn_synset.pos_score(),swn_synset.neg_score(),swn_synset.obj_score()]\n",
    "\n",
    "    pos=neg=obj=count=0"
   ]
  },
  {
   "cell_type": "code",
   "execution_count": 39,
   "metadata": {},
   "outputs": [
    {
     "name": "stdout",
     "output_type": "stream",
     "text": [
      "0      -0.125\n",
      "1      -0.500\n",
      "2      -2.125\n",
      "3       0.625\n",
      "4       0.500\n",
      "        ...  \n",
      "3077   -0.500\n",
      "3078   -0.875\n",
      "3079    0.000\n",
      "3080    0.750\n",
      "3081   -0.750\n",
      "Name: senti_score, Length: 3082, dtype: float64\n"
     ]
    },
    {
     "data": {
      "text/html": [
       "<div>\n",
       "<style scoped>\n",
       "    .dataframe tbody tr th:only-of-type {\n",
       "        vertical-align: middle;\n",
       "    }\n",
       "\n",
       "    .dataframe tbody tr th {\n",
       "        vertical-align: top;\n",
       "    }\n",
       "\n",
       "    .dataframe thead th {\n",
       "        text-align: right;\n",
       "    }\n",
       "</style>\n",
       "<table border=\"1\" class=\"dataframe\">\n",
       "  <thead>\n",
       "    <tr style=\"text-align: right;\">\n",
       "      <th></th>\n",
       "      <th>tweet</th>\n",
       "      <th>port_tweet</th>\n",
       "      <th>score</th>\n",
       "      <th>pos_tags</th>\n",
       "      <th>senti_score</th>\n",
       "    </tr>\n",
       "  </thead>\n",
       "  <tbody>\n",
       "    <tr>\n",
       "      <th>0</th>\n",
       "      <td>[the, real, reason, why, you, be, sad, you, be...</td>\n",
       "      <td>real reason whi sad attach peopl distant pay a...</td>\n",
       "      <td>Negative</td>\n",
       "      <td>[(real, JJ), (reason, NN), (whi, NN), (sad, JJ...</td>\n",
       "      <td>-0.125</td>\n",
       "    </tr>\n",
       "    <tr>\n",
       "      <th>1</th>\n",
       "      <td>[my, biggest, problem, be, overthinking, every...</td>\n",
       "      <td>biggest problem overthink everyth</td>\n",
       "      <td>Negative</td>\n",
       "      <td>[(biggest, JJS), (problem, NN), (overthink, NN...</td>\n",
       "      <td>-0.500</td>\n",
       "    </tr>\n",
       "    <tr>\n",
       "      <th>2</th>\n",
       "      <td>[the, worst, sadness, be, the, sadness, you, h...</td>\n",
       "      <td>worst sad sad teach hide</td>\n",
       "      <td>Negative</td>\n",
       "      <td>[(worst, RB), (sad, JJ), (sad, JJ), (teach, NN...</td>\n",
       "      <td>-2.125</td>\n",
       "    </tr>\n",
       "    <tr>\n",
       "      <th>3</th>\n",
       "      <td>[i, can, not, make, you, understand, i, can, n...</td>\n",
       "      <td>make understand make anyon understand happen i...</td>\n",
       "      <td>Negative</td>\n",
       "      <td>[(make, NN), (understand, NN), (make, VB), (an...</td>\n",
       "      <td>0.625</td>\n",
       "    </tr>\n",
       "    <tr>\n",
       "      <th>4</th>\n",
       "      <td>[i, do, not, think, anyone, really, understand...</td>\n",
       "      <td>think anyon realli understand tire act okay al...</td>\n",
       "      <td>Negative</td>\n",
       "      <td>[(think, VB), (anyon, JJ), (realli, NNS), (und...</td>\n",
       "      <td>0.500</td>\n",
       "    </tr>\n",
       "  </tbody>\n",
       "</table>\n",
       "</div>"
      ],
      "text/plain": [
       "                                               tweet  \\\n",
       "0  [the, real, reason, why, you, be, sad, you, be...   \n",
       "1  [my, biggest, problem, be, overthinking, every...   \n",
       "2  [the, worst, sadness, be, the, sadness, you, h...   \n",
       "3  [i, can, not, make, you, understand, i, can, n...   \n",
       "4  [i, do, not, think, anyone, really, understand...   \n",
       "\n",
       "                                          port_tweet     score  \\\n",
       "0  real reason whi sad attach peopl distant pay a...  Negative   \n",
       "1                 biggest problem overthink everyth   Negative   \n",
       "2                          worst sad sad teach hide   Negative   \n",
       "3  make understand make anyon understand happen i...  Negative   \n",
       "4  think anyon realli understand tire act okay al...  Negative   \n",
       "\n",
       "                                            pos_tags  senti_score  \n",
       "0  [(real, JJ), (reason, NN), (whi, NN), (sad, JJ...       -0.125  \n",
       "1  [(biggest, JJS), (problem, NN), (overthink, NN...       -0.500  \n",
       "2  [(worst, RB), (sad, JJ), (sad, JJ), (teach, NN...       -2.125  \n",
       "3  [(make, NN), (understand, NN), (make, VB), (an...        0.625  \n",
       "4  [(think, VB), (anyon, JJ), (realli, NNS), (und...        0.500  "
      ]
     },
     "execution_count": 39,
     "metadata": {},
     "output_type": "execute_result"
    }
   ],
   "source": [
    "senti_score = []\n",
    "\n",
    "for pos_val in df['pos_tags']:\n",
    "    senti_val = [get_sentiment(x,y) for (x,y) in pos_val]\n",
    "    for score in senti_val:\n",
    "        try:\n",
    "            pos = pos + score[1]  \n",
    "            neg = neg + score[2]  \n",
    "        except:\n",
    "            continue\n",
    "    senti_score.append(pos - neg)\n",
    "    pos=neg=0    \n",
    "    \n",
    "df['senti_score'] = senti_score\n",
    "print(df['senti_score'])\n",
    "\n",
    "df.head()"
   ]
  },
  {
   "cell_type": "code",
   "execution_count": 40,
   "metadata": {},
   "outputs": [
    {
     "data": {
      "text/plain": [
       "senti_score\n",
       "Negative    2304\n",
       "Positive     778\n",
       "Name: count, dtype: int64"
      ]
     },
     "execution_count": 40,
     "metadata": {},
     "output_type": "execute_result"
    }
   ],
   "source": [
    "df['senti_score'] = np.where(df['senti_score'] <= 0, 'Negative', 'Positive')\n",
    "df['senti_score'].value_counts()"
   ]
  },
  {
   "cell_type": "code",
   "execution_count": null,
   "metadata": {},
   "outputs": [],
   "source": []
  }
 ],
 "metadata": {
  "kernelspec": {
   "display_name": "base",
   "language": "python",
   "name": "python3"
  },
  "language_info": {
   "codemirror_mode": {
    "name": "ipython",
    "version": 3
   },
   "file_extension": ".py",
   "mimetype": "text/x-python",
   "name": "python",
   "nbconvert_exporter": "python",
   "pygments_lexer": "ipython3",
   "version": "3.11.7"
  }
 },
 "nbformat": 4,
 "nbformat_minor": 2
}
