{
 "cells": [
  {
   "cell_type": "code",
   "execution_count": 4,
   "metadata": {},
   "outputs": [],
   "source": [
    "import praw\n",
    "\n",
    "user_agent = \"Scrapper 1.0 by /u/willissssa\"\n",
    "\n",
    "reddit = praw.Reddit(\n",
    "    client_id = \"7yQTXog0_Zi1dAWu0WkMkg\",\n",
    "    client_secret=\"__whBicqP2M30uNn1u-lvqfNUUap1Q\",\n",
    "    user_agent=user_agent\n",
    ")"
   ]
  },
  {
   "cell_type": "code",
   "execution_count": 5,
   "metadata": {},
   "outputs": [],
   "source": [
    "import pandas as pd\n",
    "\n",
    "posts=[]\n",
    "mental_health = reddit.subreddit('mentalhealth')\n",
    "for post in mental_health.hot(limit=None):\n",
    "    posts.append([post.title, post.id, post.author, post.score, post.url, post.selftext, post.created_utc])\n",
    "posts = pd.DataFrame(posts,columns=['title', 'id', 'author', 'score', 'url', 'selftext', 'created_utc'])"
   ]
  },
  {
   "cell_type": "code",
   "execution_count": 6,
   "metadata": {},
   "outputs": [
    {
     "data": {
      "text/html": [
       "<div>\n",
       "<style scoped>\n",
       "    .dataframe tbody tr th:only-of-type {\n",
       "        vertical-align: middle;\n",
       "    }\n",
       "\n",
       "    .dataframe tbody tr th {\n",
       "        vertical-align: top;\n",
       "    }\n",
       "\n",
       "    .dataframe thead th {\n",
       "        text-align: right;\n",
       "    }\n",
       "</style>\n",
       "<table border=\"1\" class=\"dataframe\">\n",
       "  <thead>\n",
       "    <tr style=\"text-align: right;\">\n",
       "      <th></th>\n",
       "      <th>title</th>\n",
       "      <th>id</th>\n",
       "      <th>author</th>\n",
       "      <th>score</th>\n",
       "      <th>url</th>\n",
       "      <th>selftext</th>\n",
       "      <th>created_utc</th>\n",
       "    </tr>\n",
       "  </thead>\n",
       "  <tbody>\n",
       "    <tr>\n",
       "      <th>0</th>\n",
       "      <td>Do men go thru something in their 30s-40s that...</td>\n",
       "      <td>16zd761</td>\n",
       "      <td>PineappleDry3629</td>\n",
       "      <td>19</td>\n",
       "      <td>https://www.reddit.com/r/mentalhealth/comments...</td>\n",
       "      <td>Husband (35) stated he feels numb/Doesn’t care...</td>\n",
       "      <td>1.696392e+09</td>\n",
       "    </tr>\n",
       "    <tr>\n",
       "      <th>1</th>\n",
       "      <td>I constantly feel guilty for every thing I've ...</td>\n",
       "      <td>16zaetc</td>\n",
       "      <td>starrr333</td>\n",
       "      <td>17</td>\n",
       "      <td>https://www.reddit.com/r/mentalhealth/comments...</td>\n",
       "      <td>i cant stop analyzing everything i say over an...</td>\n",
       "      <td>1.696384e+09</td>\n",
       "    </tr>\n",
       "    <tr>\n",
       "      <th>2</th>\n",
       "      <td>Discrimination at ER</td>\n",
       "      <td>16zdrwh</td>\n",
       "      <td>h_town_vicious</td>\n",
       "      <td>5</td>\n",
       "      <td>https://www.reddit.com/r/mentalhealth/comments...</td>\n",
       "      <td>I was diagnosed with bipolar disorder in 2021....</td>\n",
       "      <td>1.696394e+09</td>\n",
       "    </tr>\n",
       "    <tr>\n",
       "      <th>3</th>\n",
       "      <td>Is anyone else filled with dread as soon as th...</td>\n",
       "      <td>16ynq87</td>\n",
       "      <td>Double-Degree7541</td>\n",
       "      <td>166</td>\n",
       "      <td>https://www.reddit.com/r/mentalhealth/comments...</td>\n",
       "      <td>Every single morning, the instant that I wake ...</td>\n",
       "      <td>1.696327e+09</td>\n",
       "    </tr>\n",
       "    <tr>\n",
       "      <th>4</th>\n",
       "      <td>My brain won't let me be happy</td>\n",
       "      <td>16z5znj</td>\n",
       "      <td>izrod6969</td>\n",
       "      <td>13</td>\n",
       "      <td>https://www.reddit.com/r/mentalhealth/comments...</td>\n",
       "      <td>What the title says, I've got this amazing gro...</td>\n",
       "      <td>1.696373e+09</td>\n",
       "    </tr>\n",
       "  </tbody>\n",
       "</table>\n",
       "</div>"
      ],
      "text/plain": [
       "                                               title       id  \\\n",
       "0  Do men go thru something in their 30s-40s that...  16zd761   \n",
       "1  I constantly feel guilty for every thing I've ...  16zaetc   \n",
       "2                               Discrimination at ER  16zdrwh   \n",
       "3  Is anyone else filled with dread as soon as th...  16ynq87   \n",
       "4                     My brain won't let me be happy  16z5znj   \n",
       "\n",
       "              author  score  \\\n",
       "0   PineappleDry3629     19   \n",
       "1          starrr333     17   \n",
       "2     h_town_vicious      5   \n",
       "3  Double-Degree7541    166   \n",
       "4          izrod6969     13   \n",
       "\n",
       "                                                 url  \\\n",
       "0  https://www.reddit.com/r/mentalhealth/comments...   \n",
       "1  https://www.reddit.com/r/mentalhealth/comments...   \n",
       "2  https://www.reddit.com/r/mentalhealth/comments...   \n",
       "3  https://www.reddit.com/r/mentalhealth/comments...   \n",
       "4  https://www.reddit.com/r/mentalhealth/comments...   \n",
       "\n",
       "                                            selftext   created_utc  \n",
       "0  Husband (35) stated he feels numb/Doesn’t care...  1.696392e+09  \n",
       "1  i cant stop analyzing everything i say over an...  1.696384e+09  \n",
       "2  I was diagnosed with bipolar disorder in 2021....  1.696394e+09  \n",
       "3  Every single morning, the instant that I wake ...  1.696327e+09  \n",
       "4  What the title says, I've got this amazing gro...  1.696373e+09  "
      ]
     },
     "execution_count": 6,
     "metadata": {},
     "output_type": "execute_result"
    }
   ],
   "source": [
    "posts.head()"
   ]
  },
  {
   "cell_type": "code",
   "execution_count": null,
   "metadata": {},
   "outputs": [],
   "source": []
  }
 ],
 "metadata": {
  "interpreter": {
   "hash": "36f8f258522dca0be43946436fde6917349fe22498e02e22f88c3805ee0164bb"
  },
  "kernelspec": {
   "display_name": "Python 3.9.7 ('base')",
   "language": "python",
   "name": "python3"
  },
  "language_info": {
   "codemirror_mode": {
    "name": "ipython",
    "version": 3
   },
   "file_extension": ".py",
   "mimetype": "text/x-python",
   "name": "python",
   "nbconvert_exporter": "python",
   "pygments_lexer": "ipython3",
   "version": "3.9.7"
  },
  "orig_nbformat": 4
 },
 "nbformat": 4,
 "nbformat_minor": 2
}
